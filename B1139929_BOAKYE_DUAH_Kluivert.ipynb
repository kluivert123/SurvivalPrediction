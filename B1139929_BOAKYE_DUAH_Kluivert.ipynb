{
 "cells": [
  {
   "cell_type": "markdown",
   "id": "c60bbcca-74e6-459f-8c96-0d5dbc6bce4e",
   "metadata": {},
   "source": [
    "## BOAKYE DUAH, Kluivert"
   ]
  },
  {
   "cell_type": "markdown",
   "id": "3a381949-d477-4dc3-b37a-407816451294",
   "metadata": {},
   "source": [
    "# Importing libraries"
   ]
  },
  {
   "cell_type": "code",
   "execution_count": 1,
   "id": "542eb810-d962-4a81-acd9-a86549a1c2a2",
   "metadata": {},
   "outputs": [
    {
     "data": {
      "text/html": [
       "<div>\n",
       "<style scoped>\n",
       "    .dataframe tbody tr th:only-of-type {\n",
       "        vertical-align: middle;\n",
       "    }\n",
       "\n",
       "    .dataframe tbody tr th {\n",
       "        vertical-align: top;\n",
       "    }\n",
       "\n",
       "    .dataframe thead th {\n",
       "        text-align: right;\n",
       "    }\n",
       "</style>\n",
       "<table border=\"1\" class=\"dataframe\">\n",
       "  <thead>\n",
       "    <tr style=\"text-align: right;\">\n",
       "      <th></th>\n",
       "      <th>encounter_id</th>\n",
       "      <th>patient_id</th>\n",
       "      <th>hospital_id</th>\n",
       "      <th>age</th>\n",
       "      <th>bmi</th>\n",
       "      <th>elective_surgery</th>\n",
       "      <th>ethnicity</th>\n",
       "      <th>gender</th>\n",
       "      <th>height</th>\n",
       "      <th>icu_admit_source</th>\n",
       "      <th>...</th>\n",
       "      <th>diabetes_mellitus</th>\n",
       "      <th>hepatic_failure</th>\n",
       "      <th>immunosuppression</th>\n",
       "      <th>leukemia</th>\n",
       "      <th>lymphoma</th>\n",
       "      <th>solid_tumor_with_metastasis</th>\n",
       "      <th>apache_3j_bodysystem</th>\n",
       "      <th>apache_2_bodysystem</th>\n",
       "      <th>Unnamed: 83</th>\n",
       "      <th>hospital_death</th>\n",
       "    </tr>\n",
       "  </thead>\n",
       "  <tbody>\n",
       "    <tr>\n",
       "      <th>0</th>\n",
       "      <td>66154</td>\n",
       "      <td>25312</td>\n",
       "      <td>118</td>\n",
       "      <td>68.0</td>\n",
       "      <td>22.73</td>\n",
       "      <td>0</td>\n",
       "      <td>Caucasian</td>\n",
       "      <td>M</td>\n",
       "      <td>180.3</td>\n",
       "      <td>Floor</td>\n",
       "      <td>...</td>\n",
       "      <td>1.0</td>\n",
       "      <td>0.0</td>\n",
       "      <td>0.0</td>\n",
       "      <td>0.0</td>\n",
       "      <td>0.0</td>\n",
       "      <td>0.0</td>\n",
       "      <td>Sepsis</td>\n",
       "      <td>Cardiovascular</td>\n",
       "      <td>NaN</td>\n",
       "      <td>0</td>\n",
       "    </tr>\n",
       "    <tr>\n",
       "      <th>1</th>\n",
       "      <td>114252</td>\n",
       "      <td>59342</td>\n",
       "      <td>81</td>\n",
       "      <td>77.0</td>\n",
       "      <td>27.42</td>\n",
       "      <td>0</td>\n",
       "      <td>Caucasian</td>\n",
       "      <td>F</td>\n",
       "      <td>160.0</td>\n",
       "      <td>Floor</td>\n",
       "      <td>...</td>\n",
       "      <td>1.0</td>\n",
       "      <td>0.0</td>\n",
       "      <td>0.0</td>\n",
       "      <td>0.0</td>\n",
       "      <td>0.0</td>\n",
       "      <td>0.0</td>\n",
       "      <td>Respiratory</td>\n",
       "      <td>Respiratory</td>\n",
       "      <td>NaN</td>\n",
       "      <td>0</td>\n",
       "    </tr>\n",
       "    <tr>\n",
       "      <th>2</th>\n",
       "      <td>119783</td>\n",
       "      <td>50777</td>\n",
       "      <td>118</td>\n",
       "      <td>25.0</td>\n",
       "      <td>31.95</td>\n",
       "      <td>0</td>\n",
       "      <td>Caucasian</td>\n",
       "      <td>F</td>\n",
       "      <td>172.7</td>\n",
       "      <td>Accident &amp; Emergency</td>\n",
       "      <td>...</td>\n",
       "      <td>0.0</td>\n",
       "      <td>0.0</td>\n",
       "      <td>0.0</td>\n",
       "      <td>0.0</td>\n",
       "      <td>0.0</td>\n",
       "      <td>0.0</td>\n",
       "      <td>Metabolic</td>\n",
       "      <td>Metabolic</td>\n",
       "      <td>NaN</td>\n",
       "      <td>0</td>\n",
       "    </tr>\n",
       "    <tr>\n",
       "      <th>3</th>\n",
       "      <td>79267</td>\n",
       "      <td>46918</td>\n",
       "      <td>118</td>\n",
       "      <td>81.0</td>\n",
       "      <td>22.64</td>\n",
       "      <td>1</td>\n",
       "      <td>Caucasian</td>\n",
       "      <td>F</td>\n",
       "      <td>165.1</td>\n",
       "      <td>Operating Room / Recovery</td>\n",
       "      <td>...</td>\n",
       "      <td>0.0</td>\n",
       "      <td>0.0</td>\n",
       "      <td>0.0</td>\n",
       "      <td>0.0</td>\n",
       "      <td>0.0</td>\n",
       "      <td>0.0</td>\n",
       "      <td>Cardiovascular</td>\n",
       "      <td>Cardiovascular</td>\n",
       "      <td>NaN</td>\n",
       "      <td>0</td>\n",
       "    </tr>\n",
       "    <tr>\n",
       "      <th>4</th>\n",
       "      <td>92056</td>\n",
       "      <td>34377</td>\n",
       "      <td>33</td>\n",
       "      <td>19.0</td>\n",
       "      <td>NaN</td>\n",
       "      <td>0</td>\n",
       "      <td>Caucasian</td>\n",
       "      <td>M</td>\n",
       "      <td>188.0</td>\n",
       "      <td>Accident &amp; Emergency</td>\n",
       "      <td>...</td>\n",
       "      <td>0.0</td>\n",
       "      <td>0.0</td>\n",
       "      <td>0.0</td>\n",
       "      <td>0.0</td>\n",
       "      <td>0.0</td>\n",
       "      <td>0.0</td>\n",
       "      <td>Trauma</td>\n",
       "      <td>Trauma</td>\n",
       "      <td>NaN</td>\n",
       "      <td>0</td>\n",
       "    </tr>\n",
       "  </tbody>\n",
       "</table>\n",
       "<p>5 rows × 85 columns</p>\n",
       "</div>"
      ],
      "text/plain": [
       "   encounter_id  patient_id  hospital_id   age    bmi  elective_surgery  \\\n",
       "0         66154       25312          118  68.0  22.73                 0   \n",
       "1        114252       59342           81  77.0  27.42                 0   \n",
       "2        119783       50777          118  25.0  31.95                 0   \n",
       "3         79267       46918          118  81.0  22.64                 1   \n",
       "4         92056       34377           33  19.0    NaN                 0   \n",
       "\n",
       "   ethnicity gender  height           icu_admit_source  ...  \\\n",
       "0  Caucasian      M   180.3                      Floor  ...   \n",
       "1  Caucasian      F   160.0                      Floor  ...   \n",
       "2  Caucasian      F   172.7       Accident & Emergency  ...   \n",
       "3  Caucasian      F   165.1  Operating Room / Recovery  ...   \n",
       "4  Caucasian      M   188.0       Accident & Emergency  ...   \n",
       "\n",
       "   diabetes_mellitus hepatic_failure immunosuppression  leukemia  lymphoma  \\\n",
       "0                1.0             0.0               0.0       0.0       0.0   \n",
       "1                1.0             0.0               0.0       0.0       0.0   \n",
       "2                0.0             0.0               0.0       0.0       0.0   \n",
       "3                0.0             0.0               0.0       0.0       0.0   \n",
       "4                0.0             0.0               0.0       0.0       0.0   \n",
       "\n",
       "   solid_tumor_with_metastasis  apache_3j_bodysystem  apache_2_bodysystem  \\\n",
       "0                          0.0                Sepsis       Cardiovascular   \n",
       "1                          0.0           Respiratory          Respiratory   \n",
       "2                          0.0             Metabolic            Metabolic   \n",
       "3                          0.0        Cardiovascular       Cardiovascular   \n",
       "4                          0.0                Trauma               Trauma   \n",
       "\n",
       "   Unnamed: 83  hospital_death  \n",
       "0          NaN               0  \n",
       "1          NaN               0  \n",
       "2          NaN               0  \n",
       "3          NaN               0  \n",
       "4          NaN               0  \n",
       "\n",
       "[5 rows x 85 columns]"
      ]
     },
     "execution_count": 1,
     "metadata": {},
     "output_type": "execute_result"
    }
   ],
   "source": [
    "# importing libraries\n",
    "import pandas as pd\n",
    "import random\n",
    "import matplotlib.pyplot as plt\n",
    "import sklearn as sl\n",
    "from sklearn.model_selection import train_test_split\n",
    "\n",
    "#Reading the dataset\n",
    "df = pd.read_csv(r\"dataset.csv\\dataset.csv\")\n",
    "df.head()"
   ]
  },
  {
   "cell_type": "code",
   "execution_count": 2,
   "id": "d0f3bae8-ec72-4f55-9450-d3af93179277",
   "metadata": {},
   "outputs": [],
   "source": [
    "import seaborn as sns\n",
    "## for statistical tests\n",
    "import scipy\n",
    "import statsmodels.formula.api as smf\n",
    "import statsmodels.api as sm\n",
    "## for machine learning\n",
    "from sklearn import model_selection, preprocessing, feature_selection, ensemble, linear_model, metrics, decomposition\n",
    "## for explainer\n",
    "#from lime import lime_tabular"
   ]
  },
  {
   "cell_type": "markdown",
   "id": "2d21c699-999e-4b12-9f03-a97fde829ab1",
   "metadata": {},
   "source": [
    "# Exploratory Data Analysis & Cleaning"
   ]
  },
  {
   "cell_type": "code",
   "execution_count": 4,
   "id": "6dd09d2c-973d-4bfe-81c2-d8fdc8061bf6",
   "metadata": {},
   "outputs": [
    {
     "name": "stdout",
     "output_type": "stream",
     "text": [
      "<class 'pandas.core.frame.DataFrame'>\n",
      "RangeIndex: 91713 entries, 0 to 91712\n",
      "Data columns (total 85 columns):\n",
      " #   Column                         Non-Null Count  Dtype  \n",
      "---  ------                         --------------  -----  \n",
      " 0   encounter_id                   91713 non-null  int64  \n",
      " 1   patient_id                     91713 non-null  int64  \n",
      " 2   hospital_id                    91713 non-null  int64  \n",
      " 3   age                            87485 non-null  float64\n",
      " 4   bmi                            88284 non-null  float64\n",
      " 5   elective_surgery               91713 non-null  int64  \n",
      " 6   ethnicity                      90318 non-null  object \n",
      " 7   gender                         91688 non-null  object \n",
      " 8   height                         90379 non-null  float64\n",
      " 9   icu_admit_source               91601 non-null  object \n",
      " 10  icu_id                         91713 non-null  int64  \n",
      " 11  icu_stay_type                  91713 non-null  object \n",
      " 12  icu_type                       91713 non-null  object \n",
      " 13  pre_icu_los_days               91713 non-null  float64\n",
      " 14  weight                         88993 non-null  float64\n",
      " 15  apache_2_diagnosis             90051 non-null  float64\n",
      " 16  apache_3j_diagnosis            90612 non-null  float64\n",
      " 17  apache_post_operative          91713 non-null  int64  \n",
      " 18  arf_apache                     90998 non-null  float64\n",
      " 19  gcs_eyes_apache                89812 non-null  float64\n",
      " 20  gcs_motor_apache               89812 non-null  float64\n",
      " 21  gcs_unable_apache              90676 non-null  float64\n",
      " 22  gcs_verbal_apache              89812 non-null  float64\n",
      " 23  heart_rate_apache              90835 non-null  float64\n",
      " 24  intubated_apache               90998 non-null  float64\n",
      " 25  map_apache                     90719 non-null  float64\n",
      " 26  resprate_apache                90479 non-null  float64\n",
      " 27  temp_apache                    87605 non-null  float64\n",
      " 28  ventilated_apache              90998 non-null  float64\n",
      " 29  d1_diasbp_max                  91548 non-null  float64\n",
      " 30  d1_diasbp_min                  91548 non-null  float64\n",
      " 31  d1_diasbp_noninvasive_max      90673 non-null  float64\n",
      " 32  d1_diasbp_noninvasive_min      90673 non-null  float64\n",
      " 33  d1_heartrate_max               91568 non-null  float64\n",
      " 34  d1_heartrate_min               91568 non-null  float64\n",
      " 35  d1_mbp_max                     91493 non-null  float64\n",
      " 36  d1_mbp_min                     91493 non-null  float64\n",
      " 37  d1_mbp_noninvasive_max         90234 non-null  float64\n",
      " 38  d1_mbp_noninvasive_min         90234 non-null  float64\n",
      " 39  d1_resprate_max                91328 non-null  float64\n",
      " 40  d1_resprate_min                91328 non-null  float64\n",
      " 41  d1_spo2_max                    91380 non-null  float64\n",
      " 42  d1_spo2_min                    91380 non-null  float64\n",
      " 43  d1_sysbp_max                   91554 non-null  float64\n",
      " 44  d1_sysbp_min                   91554 non-null  float64\n",
      " 45  d1_sysbp_noninvasive_max       90686 non-null  float64\n",
      " 46  d1_sysbp_noninvasive_min       90686 non-null  float64\n",
      " 47  d1_temp_max                    89389 non-null  float64\n",
      " 48  d1_temp_min                    89389 non-null  float64\n",
      " 49  h1_diasbp_max                  88094 non-null  float64\n",
      " 50  h1_diasbp_min                  88094 non-null  float64\n",
      " 51  h1_diasbp_noninvasive_max      84363 non-null  float64\n",
      " 52  h1_diasbp_noninvasive_min      84363 non-null  float64\n",
      " 53  h1_heartrate_max               88923 non-null  float64\n",
      " 54  h1_heartrate_min               88923 non-null  float64\n",
      " 55  h1_mbp_max                     87074 non-null  float64\n",
      " 56  h1_mbp_min                     87074 non-null  float64\n",
      " 57  h1_mbp_noninvasive_max         82629 non-null  float64\n",
      " 58  h1_mbp_noninvasive_min         82629 non-null  float64\n",
      " 59  h1_resprate_max                87356 non-null  float64\n",
      " 60  h1_resprate_min                87356 non-null  float64\n",
      " 61  h1_spo2_max                    87528 non-null  float64\n",
      " 62  h1_spo2_min                    87528 non-null  float64\n",
      " 63  h1_sysbp_max                   88102 non-null  float64\n",
      " 64  h1_sysbp_min                   88102 non-null  float64\n",
      " 65  h1_sysbp_noninvasive_max       84372 non-null  float64\n",
      " 66  h1_sysbp_noninvasive_min       84372 non-null  float64\n",
      " 67  d1_glucose_max                 85906 non-null  float64\n",
      " 68  d1_glucose_min                 85906 non-null  float64\n",
      " 69  d1_potassium_max               82128 non-null  float64\n",
      " 70  d1_potassium_min               82128 non-null  float64\n",
      " 71  apache_4a_hospital_death_prob  83766 non-null  float64\n",
      " 72  apache_4a_icu_death_prob       83766 non-null  float64\n",
      " 73  aids                           90998 non-null  float64\n",
      " 74  cirrhosis                      90998 non-null  float64\n",
      " 75  diabetes_mellitus              90998 non-null  float64\n",
      " 76  hepatic_failure                90998 non-null  float64\n",
      " 77  immunosuppression              90998 non-null  float64\n",
      " 78  leukemia                       90998 non-null  float64\n",
      " 79  lymphoma                       90998 non-null  float64\n",
      " 80  solid_tumor_with_metastasis    90998 non-null  float64\n",
      " 81  apache_3j_bodysystem           90051 non-null  object \n",
      " 82  apache_2_bodysystem            90051 non-null  object \n",
      " 83  Unnamed: 83                    0 non-null      float64\n",
      " 84  hospital_death                 91713 non-null  int64  \n",
      "dtypes: float64(71), int64(7), object(7)\n",
      "memory usage: 95.3 MB\n"
     ]
    }
   ],
   "source": [
    "# checking the information of each variable\n",
    "df.info(memory_usage = \"deep\")\n"
   ]
  },
  {
   "cell_type": "code",
   "execution_count": 5,
   "id": "e6049bd4-48d5-49fa-9355-166caae5fa5f",
   "metadata": {},
   "outputs": [
    {
     "data": {
      "text/plain": [
       "(91713, 85)"
      ]
     },
     "execution_count": 5,
     "metadata": {},
     "output_type": "execute_result"
    }
   ],
   "source": [
    "#checking the dimension of the dataframe\n",
    "df.shape"
   ]
  },
  {
   "cell_type": "code",
   "execution_count": 6,
   "id": "8776ae9e-3fad-4c44-96ec-f5c3d655869b",
   "metadata": {},
   "outputs": [],
   "source": [
    "#Random Sampling the dataset\n",
    "s = 91713//50  # sample size of 2%\n",
    "skip = sorted(random.sample(range(1, 91713+1), 91713-s))  # n+1 to compensate for header \n",
    "df = pd.read_csv(r\"dataset.csv\\dataset.csv\", skiprows=skip)"
   ]
  },
  {
   "cell_type": "code",
   "execution_count": 7,
   "id": "b72a0342-fd32-4042-8a51-a10e1e61e81b",
   "metadata": {},
   "outputs": [
    {
     "data": {
      "text/html": [
       "<div>\n",
       "<style scoped>\n",
       "    .dataframe tbody tr th:only-of-type {\n",
       "        vertical-align: middle;\n",
       "    }\n",
       "\n",
       "    .dataframe tbody tr th {\n",
       "        vertical-align: top;\n",
       "    }\n",
       "\n",
       "    .dataframe thead th {\n",
       "        text-align: right;\n",
       "    }\n",
       "</style>\n",
       "<table border=\"1\" class=\"dataframe\">\n",
       "  <thead>\n",
       "    <tr style=\"text-align: right;\">\n",
       "      <th></th>\n",
       "      <th>encounter_id</th>\n",
       "      <th>patient_id</th>\n",
       "      <th>hospital_id</th>\n",
       "      <th>age</th>\n",
       "      <th>bmi</th>\n",
       "      <th>elective_surgery</th>\n",
       "      <th>ethnicity</th>\n",
       "      <th>gender</th>\n",
       "      <th>height</th>\n",
       "      <th>icu_admit_source</th>\n",
       "      <th>...</th>\n",
       "      <th>diabetes_mellitus</th>\n",
       "      <th>hepatic_failure</th>\n",
       "      <th>immunosuppression</th>\n",
       "      <th>leukemia</th>\n",
       "      <th>lymphoma</th>\n",
       "      <th>solid_tumor_with_metastasis</th>\n",
       "      <th>apache_3j_bodysystem</th>\n",
       "      <th>apache_2_bodysystem</th>\n",
       "      <th>Unnamed: 83</th>\n",
       "      <th>hospital_death</th>\n",
       "    </tr>\n",
       "  </thead>\n",
       "  <tbody>\n",
       "    <tr>\n",
       "      <th>0</th>\n",
       "      <td>45954</td>\n",
       "      <td>102946</td>\n",
       "      <td>118</td>\n",
       "      <td>39.0</td>\n",
       "      <td>37.010278</td>\n",
       "      <td>1</td>\n",
       "      <td>NaN</td>\n",
       "      <td>M</td>\n",
       "      <td>177.8</td>\n",
       "      <td>Operating Room / Recovery</td>\n",
       "      <td>...</td>\n",
       "      <td>0.0</td>\n",
       "      <td>0.0</td>\n",
       "      <td>0.0</td>\n",
       "      <td>0.0</td>\n",
       "      <td>0.0</td>\n",
       "      <td>0.0</td>\n",
       "      <td>Cardiovascular</td>\n",
       "      <td>Cardiovascular</td>\n",
       "      <td>NaN</td>\n",
       "      <td>0</td>\n",
       "    </tr>\n",
       "    <tr>\n",
       "      <th>1</th>\n",
       "      <td>15917</td>\n",
       "      <td>30054</td>\n",
       "      <td>46</td>\n",
       "      <td>56.0</td>\n",
       "      <td>34.154401</td>\n",
       "      <td>0</td>\n",
       "      <td>Caucasian</td>\n",
       "      <td>F</td>\n",
       "      <td>162.6</td>\n",
       "      <td>Accident &amp; Emergency</td>\n",
       "      <td>...</td>\n",
       "      <td>0.0</td>\n",
       "      <td>0.0</td>\n",
       "      <td>0.0</td>\n",
       "      <td>0.0</td>\n",
       "      <td>0.0</td>\n",
       "      <td>0.0</td>\n",
       "      <td>Cardiovascular</td>\n",
       "      <td>Cardiovascular</td>\n",
       "      <td>NaN</td>\n",
       "      <td>0</td>\n",
       "    </tr>\n",
       "    <tr>\n",
       "      <th>2</th>\n",
       "      <td>80401</td>\n",
       "      <td>74973</td>\n",
       "      <td>46</td>\n",
       "      <td>48.0</td>\n",
       "      <td>25.968033</td>\n",
       "      <td>0</td>\n",
       "      <td>Caucasian</td>\n",
       "      <td>M</td>\n",
       "      <td>175.3</td>\n",
       "      <td>Accident &amp; Emergency</td>\n",
       "      <td>...</td>\n",
       "      <td>0.0</td>\n",
       "      <td>1.0</td>\n",
       "      <td>0.0</td>\n",
       "      <td>0.0</td>\n",
       "      <td>0.0</td>\n",
       "      <td>0.0</td>\n",
       "      <td>Neurological</td>\n",
       "      <td>Neurologic</td>\n",
       "      <td>NaN</td>\n",
       "      <td>0</td>\n",
       "    </tr>\n",
       "    <tr>\n",
       "      <th>3</th>\n",
       "      <td>15146</td>\n",
       "      <td>72148</td>\n",
       "      <td>83</td>\n",
       "      <td>69.0</td>\n",
       "      <td>29.557946</td>\n",
       "      <td>0</td>\n",
       "      <td>Caucasian</td>\n",
       "      <td>M</td>\n",
       "      <td>185.4</td>\n",
       "      <td>Accident &amp; Emergency</td>\n",
       "      <td>...</td>\n",
       "      <td>1.0</td>\n",
       "      <td>0.0</td>\n",
       "      <td>0.0</td>\n",
       "      <td>0.0</td>\n",
       "      <td>0.0</td>\n",
       "      <td>1.0</td>\n",
       "      <td>Cardiovascular</td>\n",
       "      <td>Cardiovascular</td>\n",
       "      <td>NaN</td>\n",
       "      <td>0</td>\n",
       "    </tr>\n",
       "    <tr>\n",
       "      <th>4</th>\n",
       "      <td>125370</td>\n",
       "      <td>8831</td>\n",
       "      <td>33</td>\n",
       "      <td>85.0</td>\n",
       "      <td>31.988191</td>\n",
       "      <td>0</td>\n",
       "      <td>Caucasian</td>\n",
       "      <td>M</td>\n",
       "      <td>175.3</td>\n",
       "      <td>Accident &amp; Emergency</td>\n",
       "      <td>...</td>\n",
       "      <td>0.0</td>\n",
       "      <td>0.0</td>\n",
       "      <td>0.0</td>\n",
       "      <td>0.0</td>\n",
       "      <td>0.0</td>\n",
       "      <td>0.0</td>\n",
       "      <td>Respiratory</td>\n",
       "      <td>Respiratory</td>\n",
       "      <td>NaN</td>\n",
       "      <td>0</td>\n",
       "    </tr>\n",
       "  </tbody>\n",
       "</table>\n",
       "<p>5 rows × 85 columns</p>\n",
       "</div>"
      ],
      "text/plain": [
       "   encounter_id  patient_id  hospital_id   age        bmi  elective_surgery  \\\n",
       "0         45954      102946          118  39.0  37.010278                 1   \n",
       "1         15917       30054           46  56.0  34.154401                 0   \n",
       "2         80401       74973           46  48.0  25.968033                 0   \n",
       "3         15146       72148           83  69.0  29.557946                 0   \n",
       "4        125370        8831           33  85.0  31.988191                 0   \n",
       "\n",
       "   ethnicity gender  height           icu_admit_source  ...  \\\n",
       "0        NaN      M   177.8  Operating Room / Recovery  ...   \n",
       "1  Caucasian      F   162.6       Accident & Emergency  ...   \n",
       "2  Caucasian      M   175.3       Accident & Emergency  ...   \n",
       "3  Caucasian      M   185.4       Accident & Emergency  ...   \n",
       "4  Caucasian      M   175.3       Accident & Emergency  ...   \n",
       "\n",
       "   diabetes_mellitus hepatic_failure immunosuppression  leukemia  lymphoma  \\\n",
       "0                0.0             0.0               0.0       0.0       0.0   \n",
       "1                0.0             0.0               0.0       0.0       0.0   \n",
       "2                0.0             1.0               0.0       0.0       0.0   \n",
       "3                1.0             0.0               0.0       0.0       0.0   \n",
       "4                0.0             0.0               0.0       0.0       0.0   \n",
       "\n",
       "   solid_tumor_with_metastasis  apache_3j_bodysystem  apache_2_bodysystem  \\\n",
       "0                          0.0        Cardiovascular       Cardiovascular   \n",
       "1                          0.0        Cardiovascular       Cardiovascular   \n",
       "2                          0.0          Neurological           Neurologic   \n",
       "3                          1.0        Cardiovascular       Cardiovascular   \n",
       "4                          0.0           Respiratory          Respiratory   \n",
       "\n",
       "   Unnamed: 83  hospital_death  \n",
       "0          NaN               0  \n",
       "1          NaN               0  \n",
       "2          NaN               0  \n",
       "3          NaN               0  \n",
       "4          NaN               0  \n",
       "\n",
       "[5 rows x 85 columns]"
      ]
     },
     "execution_count": 7,
     "metadata": {},
     "output_type": "execute_result"
    }
   ],
   "source": [
    "#A review of the random sample\n",
    "df.head()"
   ]
  },
  {
   "cell_type": "code",
   "execution_count": 8,
   "id": "a90de5bd-b54a-4887-85c1-b2a3d423fdf9",
   "metadata": {},
   "outputs": [
    {
     "data": {
      "text/plain": [
       "(1834, 85)"
      ]
     },
     "execution_count": 8,
     "metadata": {},
     "output_type": "execute_result"
    }
   ],
   "source": [
    "#shape of the random sample\n",
    "df.shape"
   ]
  },
  {
   "cell_type": "code",
   "execution_count": 9,
   "id": "9a1e050e-402d-4883-ae5a-e3394dbc7d18",
   "metadata": {},
   "outputs": [],
   "source": [
    "#checking for categorical variables and quantitative variables/numeric\n",
    "def utils_recognize_type(df, col, max_cat=20):\n",
    "    if (df[col].dtype == \"O\") | (df[col].nunique() < max_cat):\n",
    "        return \"cat\"\n",
    "    else:\n",
    "        return \"num\""
   ]
  },
  {
   "cell_type": "code",
   "execution_count": 10,
   "id": "c36f44b3-d91d-46f8-8bb9-fb0864eef4db",
   "metadata": {},
   "outputs": [
    {
     "data": {
      "text/plain": [
       "{'encounter_id': 'num',\n",
       " 'patient_id': 'num',\n",
       " 'hospital_id': 'num',\n",
       " 'age': 'num',\n",
       " 'bmi': 'num',\n",
       " 'elective_surgery': 'cat',\n",
       " 'ethnicity': 'cat',\n",
       " 'gender': 'cat',\n",
       " 'height': 'num',\n",
       " 'icu_admit_source': 'cat',\n",
       " 'icu_id': 'num',\n",
       " 'icu_stay_type': 'cat',\n",
       " 'icu_type': 'cat',\n",
       " 'pre_icu_los_days': 'num',\n",
       " 'weight': 'num',\n",
       " 'apache_2_diagnosis': 'num',\n",
       " 'apache_3j_diagnosis': 'num',\n",
       " 'apache_post_operative': 'cat',\n",
       " 'arf_apache': 'cat',\n",
       " 'gcs_eyes_apache': 'cat',\n",
       " 'gcs_motor_apache': 'cat',\n",
       " 'gcs_unable_apache': 'cat',\n",
       " 'gcs_verbal_apache': 'cat',\n",
       " 'heart_rate_apache': 'num',\n",
       " 'intubated_apache': 'cat',\n",
       " 'map_apache': 'num',\n",
       " 'resprate_apache': 'num',\n",
       " 'temp_apache': 'num',\n",
       " 'ventilated_apache': 'cat',\n",
       " 'd1_diasbp_max': 'num',\n",
       " 'd1_diasbp_min': 'num',\n",
       " 'd1_diasbp_noninvasive_max': 'num',\n",
       " 'd1_diasbp_noninvasive_min': 'num',\n",
       " 'd1_heartrate_max': 'num',\n",
       " 'd1_heartrate_min': 'num',\n",
       " 'd1_mbp_max': 'num',\n",
       " 'd1_mbp_min': 'num',\n",
       " 'd1_mbp_noninvasive_max': 'num',\n",
       " 'd1_mbp_noninvasive_min': 'num',\n",
       " 'd1_resprate_max': 'num',\n",
       " 'd1_resprate_min': 'num',\n",
       " 'd1_spo2_max': 'cat',\n",
       " 'd1_spo2_min': 'num',\n",
       " 'd1_sysbp_max': 'num',\n",
       " 'd1_sysbp_min': 'num',\n",
       " 'd1_sysbp_noninvasive_max': 'num',\n",
       " 'd1_sysbp_noninvasive_min': 'num',\n",
       " 'd1_temp_max': 'num',\n",
       " 'd1_temp_min': 'num',\n",
       " 'h1_diasbp_max': 'num',\n",
       " 'h1_diasbp_min': 'num',\n",
       " 'h1_diasbp_noninvasive_max': 'num',\n",
       " 'h1_diasbp_noninvasive_min': 'num',\n",
       " 'h1_heartrate_max': 'num',\n",
       " 'h1_heartrate_min': 'num',\n",
       " 'h1_mbp_max': 'num',\n",
       " 'h1_mbp_min': 'num',\n",
       " 'h1_mbp_noninvasive_max': 'num',\n",
       " 'h1_mbp_noninvasive_min': 'num',\n",
       " 'h1_resprate_max': 'num',\n",
       " 'h1_resprate_min': 'num',\n",
       " 'h1_spo2_max': 'num',\n",
       " 'h1_spo2_min': 'num',\n",
       " 'h1_sysbp_max': 'num',\n",
       " 'h1_sysbp_min': 'num',\n",
       " 'h1_sysbp_noninvasive_max': 'num',\n",
       " 'h1_sysbp_noninvasive_min': 'num',\n",
       " 'd1_glucose_max': 'num',\n",
       " 'd1_glucose_min': 'num',\n",
       " 'd1_potassium_max': 'num',\n",
       " 'd1_potassium_min': 'num',\n",
       " 'apache_4a_hospital_death_prob': 'num',\n",
       " 'apache_4a_icu_death_prob': 'num',\n",
       " 'aids': 'cat',\n",
       " 'cirrhosis': 'cat',\n",
       " 'diabetes_mellitus': 'cat',\n",
       " 'hepatic_failure': 'cat',\n",
       " 'immunosuppression': 'cat',\n",
       " 'leukemia': 'cat',\n",
       " 'lymphoma': 'cat',\n",
       " 'solid_tumor_with_metastasis': 'cat',\n",
       " 'apache_3j_bodysystem': 'cat',\n",
       " 'apache_2_bodysystem': 'cat',\n",
       " 'Unnamed: 83': 'cat',\n",
       " 'hospital_death': 'cat'}"
      ]
     },
     "execution_count": 10,
     "metadata": {},
     "output_type": "execute_result"
    }
   ],
   "source": [
    "#displaying the results of the categorical and numeric variables\n",
    "dic_cols = {col:utils_recognize_type(df, col, max_cat=20) for col in df.columns}\n",
    "dic_cols"
   ]
  },
  {
   "cell_type": "code",
   "execution_count": 11,
   "id": "06bdd93f-c581-4394-b813-febd8e93171f",
   "metadata": {},
   "outputs": [
    {
     "data": {
      "image/png": "[encoded data removed]",
      "text/plain": [
       "<Figure size 432x288 with 1 Axes>"
      ]
     },
     "metadata": {
      "needs_background": "light"
     },
     "output_type": "display_data"
    },
    {
     "name": "stdout",
     "output_type": "stream",
     "text": [
      "\u001b[1;37;40m Categerocial  \u001b[1;30;41m Numeric  \u001b[1;30;47m NaN \n"
     ]
    }
   ],
   "source": [
    "# a heatmap to show missing and non-missing observations\n",
    "heatmap = df.isnull()\n",
    "for k,v in dic_cols.items():\n",
    " if v == \"num\":\n",
    "   heatmap[k] = heatmap[k].apply(lambda x: 0.5 if x is False else 1)\n",
    " else:\n",
    "   heatmap[k] = heatmap[k].apply(lambda x: 0 if x is False else 1)\n",
    "sns.heatmap(heatmap, cbar=False).set_title('Dataset Overview')\n",
    "plt.show()\n",
    "print(\"\\033[1;37;40m Categerocial \", \"\\033[1;30;41m Numeric \", \"\\033[1;30;47m NaN \")"
   ]
  },
  {
   "cell_type": "code",
   "execution_count": 12,
   "id": "7420c4f0-808b-46e2-91b6-2538cf55e13f",
   "metadata": {},
   "outputs": [],
   "source": [
    "# dropping the id columns and the empty column\n",
    "df.drop([\"encounter_id\",\"patient_id\",\"hospital_id\",\"Unnamed: 83\",\"icu_id\"], axis = 1, inplace =True)"
   ]
  },
  {
   "cell_type": "code",
   "execution_count": 13,
   "id": "fb9fbb28-5fa4-4813-b756-3b001913963b",
   "metadata": {},
   "outputs": [
    {
     "data": {
      "text/plain": [
       "(1834, 80)"
      ]
     },
     "execution_count": 13,
     "metadata": {},
     "output_type": "execute_result"
    }
   ],
   "source": [
    "#checking the shape of the current dataframe\n",
    "df.shape"
   ]
  },
  {
   "cell_type": "code",
   "execution_count": 14,
   "id": "efe10a13-e1de-485b-8ba0-8ddbf526a43d",
   "metadata": {},
   "outputs": [
    {
     "data": {
      "text/html": [
       "<div>\n",
       "<style scoped>\n",
       "    .dataframe tbody tr th:only-of-type {\n",
       "        vertical-align: middle;\n",
       "    }\n",
       "\n",
       "    .dataframe tbody tr th {\n",
       "        vertical-align: top;\n",
       "    }\n",
       "\n",
       "    .dataframe thead th {\n",
       "        text-align: right;\n",
       "    }\n",
       "</style>\n",
       "<table border=\"1\" class=\"dataframe\">\n",
       "  <thead>\n",
       "    <tr style=\"text-align: right;\">\n",
       "      <th></th>\n",
       "      <th>age</th>\n",
       "      <th>bmi</th>\n",
       "      <th>elective_surgery</th>\n",
       "      <th>height</th>\n",
       "      <th>pre_icu_los_days</th>\n",
       "      <th>weight</th>\n",
       "      <th>apache_2_diagnosis</th>\n",
       "      <th>apache_3j_diagnosis</th>\n",
       "      <th>apache_post_operative</th>\n",
       "      <th>arf_apache</th>\n",
       "      <th>...</th>\n",
       "      <th>apache_4a_icu_death_prob</th>\n",
       "      <th>aids</th>\n",
       "      <th>cirrhosis</th>\n",
       "      <th>diabetes_mellitus</th>\n",
       "      <th>hepatic_failure</th>\n",
       "      <th>immunosuppression</th>\n",
       "      <th>leukemia</th>\n",
       "      <th>lymphoma</th>\n",
       "      <th>solid_tumor_with_metastasis</th>\n",
       "      <th>hospital_death</th>\n",
       "    </tr>\n",
       "  </thead>\n",
       "  <tbody>\n",
       "    <tr>\n",
       "      <th>count</th>\n",
       "      <td>1753.000000</td>\n",
       "      <td>1770.000000</td>\n",
       "      <td>1834.000000</td>\n",
       "      <td>1805.000000</td>\n",
       "      <td>1834.000000</td>\n",
       "      <td>1790.000000</td>\n",
       "      <td>1799.000000</td>\n",
       "      <td>1807.000000</td>\n",
       "      <td>1834.000000</td>\n",
       "      <td>1820.000000</td>\n",
       "      <td>...</td>\n",
       "      <td>1668.000000</td>\n",
       "      <td>1820.0</td>\n",
       "      <td>1820.000000</td>\n",
       "      <td>1820.000000</td>\n",
       "      <td>1820.000000</td>\n",
       "      <td>1820.000000</td>\n",
       "      <td>1820.000000</td>\n",
       "      <td>1820.000000</td>\n",
       "      <td>1820.000000</td>\n",
       "      <td>1834.000000</td>\n",
       "    </tr>\n",
       "    <tr>\n",
       "      <th>mean</th>\n",
       "      <td>61.749572</td>\n",
       "      <td>28.997209</td>\n",
       "      <td>0.188113</td>\n",
       "      <td>169.702127</td>\n",
       "      <td>0.867281</td>\n",
       "      <td>83.701514</td>\n",
       "      <td>188.001668</td>\n",
       "      <td>565.053226</td>\n",
       "      <td>0.206652</td>\n",
       "      <td>0.024725</td>\n",
       "      <td>...</td>\n",
       "      <td>0.042578</td>\n",
       "      <td>0.0</td>\n",
       "      <td>0.018132</td>\n",
       "      <td>0.210440</td>\n",
       "      <td>0.016484</td>\n",
       "      <td>0.026923</td>\n",
       "      <td>0.008242</td>\n",
       "      <td>0.004396</td>\n",
       "      <td>0.020879</td>\n",
       "      <td>0.087241</td>\n",
       "    </tr>\n",
       "    <tr>\n",
       "      <th>std</th>\n",
       "      <td>17.041734</td>\n",
       "      <td>8.210754</td>\n",
       "      <td>0.390909</td>\n",
       "      <td>10.859473</td>\n",
       "      <td>2.463955</td>\n",
       "      <td>25.116816</td>\n",
       "      <td>86.831953</td>\n",
       "      <td>470.675021</td>\n",
       "      <td>0.405014</td>\n",
       "      <td>0.155329</td>\n",
       "      <td>...</td>\n",
       "      <td>0.222508</td>\n",
       "      <td>0.0</td>\n",
       "      <td>0.133465</td>\n",
       "      <td>0.407733</td>\n",
       "      <td>0.127361</td>\n",
       "      <td>0.161903</td>\n",
       "      <td>0.090434</td>\n",
       "      <td>0.066172</td>\n",
       "      <td>0.143019</td>\n",
       "      <td>0.282265</td>\n",
       "    </tr>\n",
       "    <tr>\n",
       "      <th>min</th>\n",
       "      <td>16.000000</td>\n",
       "      <td>14.844926</td>\n",
       "      <td>0.000000</td>\n",
       "      <td>137.200000</td>\n",
       "      <td>-10.693750</td>\n",
       "      <td>38.600000</td>\n",
       "      <td>101.000000</td>\n",
       "      <td>0.020000</td>\n",
       "      <td>0.000000</td>\n",
       "      <td>0.000000</td>\n",
       "      <td>...</td>\n",
       "      <td>-1.000000</td>\n",
       "      <td>0.0</td>\n",
       "      <td>0.000000</td>\n",
       "      <td>0.000000</td>\n",
       "      <td>0.000000</td>\n",
       "      <td>0.000000</td>\n",
       "      <td>0.000000</td>\n",
       "      <td>0.000000</td>\n",
       "      <td>0.000000</td>\n",
       "      <td>0.000000</td>\n",
       "    </tr>\n",
       "    <tr>\n",
       "      <th>25%</th>\n",
       "      <td>51.000000</td>\n",
       "      <td>23.593027</td>\n",
       "      <td>0.000000</td>\n",
       "      <td>162.000000</td>\n",
       "      <td>0.032639</td>\n",
       "      <td>66.000000</td>\n",
       "      <td>113.000000</td>\n",
       "      <td>203.010000</td>\n",
       "      <td>0.000000</td>\n",
       "      <td>0.000000</td>\n",
       "      <td>...</td>\n",
       "      <td>0.010000</td>\n",
       "      <td>0.0</td>\n",
       "      <td>0.000000</td>\n",
       "      <td>0.000000</td>\n",
       "      <td>0.000000</td>\n",
       "      <td>0.000000</td>\n",
       "      <td>0.000000</td>\n",
       "      <td>0.000000</td>\n",
       "      <td>0.000000</td>\n",
       "      <td>0.000000</td>\n",
       "    </tr>\n",
       "    <tr>\n",
       "      <th>50%</th>\n",
       "      <td>65.000000</td>\n",
       "      <td>27.469627</td>\n",
       "      <td>0.000000</td>\n",
       "      <td>170.100000</td>\n",
       "      <td>0.131944</td>\n",
       "      <td>79.525000</td>\n",
       "      <td>123.000000</td>\n",
       "      <td>408.020000</td>\n",
       "      <td>0.000000</td>\n",
       "      <td>0.000000</td>\n",
       "      <td>...</td>\n",
       "      <td>0.020000</td>\n",
       "      <td>0.0</td>\n",
       "      <td>0.000000</td>\n",
       "      <td>0.000000</td>\n",
       "      <td>0.000000</td>\n",
       "      <td>0.000000</td>\n",
       "      <td>0.000000</td>\n",
       "      <td>0.000000</td>\n",
       "      <td>0.000000</td>\n",
       "      <td>0.000000</td>\n",
       "    </tr>\n",
       "    <tr>\n",
       "      <th>75%</th>\n",
       "      <td>75.000000</td>\n",
       "      <td>32.548312</td>\n",
       "      <td>0.000000</td>\n",
       "      <td>177.800000</td>\n",
       "      <td>0.415972</td>\n",
       "      <td>97.992500</td>\n",
       "      <td>302.000000</td>\n",
       "      <td>703.030000</td>\n",
       "      <td>0.000000</td>\n",
       "      <td>0.000000</td>\n",
       "      <td>...</td>\n",
       "      <td>0.060000</td>\n",
       "      <td>0.0</td>\n",
       "      <td>0.000000</td>\n",
       "      <td>0.000000</td>\n",
       "      <td>0.000000</td>\n",
       "      <td>0.000000</td>\n",
       "      <td>0.000000</td>\n",
       "      <td>0.000000</td>\n",
       "      <td>0.000000</td>\n",
       "      <td>0.000000</td>\n",
       "    </tr>\n",
       "    <tr>\n",
       "      <th>max</th>\n",
       "      <td>89.000000</td>\n",
       "      <td>67.814990</td>\n",
       "      <td>1.000000</td>\n",
       "      <td>195.590000</td>\n",
       "      <td>28.584028</td>\n",
       "      <td>186.000000</td>\n",
       "      <td>308.000000</td>\n",
       "      <td>2201.050000</td>\n",
       "      <td>1.000000</td>\n",
       "      <td>1.000000</td>\n",
       "      <td>...</td>\n",
       "      <td>0.930000</td>\n",
       "      <td>0.0</td>\n",
       "      <td>1.000000</td>\n",
       "      <td>1.000000</td>\n",
       "      <td>1.000000</td>\n",
       "      <td>1.000000</td>\n",
       "      <td>1.000000</td>\n",
       "      <td>1.000000</td>\n",
       "      <td>1.000000</td>\n",
       "      <td>1.000000</td>\n",
       "    </tr>\n",
       "  </tbody>\n",
       "</table>\n",
       "<p>8 rows × 73 columns</p>\n",
       "</div>"
      ],
      "text/plain": [
       "               age          bmi  elective_surgery       height  \\\n",
       "count  1753.000000  1770.000000       1834.000000  1805.000000   \n",
       "mean     61.749572    28.997209          0.188113   169.702127   \n",
       "std      17.041734     8.210754          0.390909    10.859473   \n",
       "min      16.000000    14.844926          0.000000   137.200000   \n",
       "25%      51.000000    23.593027          0.000000   162.000000   \n",
       "50%      65.000000    27.469627          0.000000   170.100000   \n",
       "75%      75.000000    32.548312          0.000000   177.800000   \n",
       "max      89.000000    67.814990          1.000000   195.590000   \n",
       "\n",
       "       pre_icu_los_days       weight  apache_2_diagnosis  apache_3j_diagnosis  \\\n",
       "count       1834.000000  1790.000000         1799.000000          1807.000000   \n",
       "mean           0.867281    83.701514          188.001668           565.053226   \n",
       "std            2.463955    25.116816           86.831953           470.675021   \n",
       "min          -10.693750    38.600000          101.000000             0.020000   \n",
       "25%            0.032639    66.000000          113.000000           203.010000   \n",
       "50%            0.131944    79.525000          123.000000           408.020000   \n",
       "75%            0.415972    97.992500          302.000000           703.030000   \n",
       "max           28.584028   186.000000          308.000000          2201.050000   \n",
       "\n",
       "       apache_post_operative   arf_apache  ...  apache_4a_icu_death_prob  \\\n",
       "count            1834.000000  1820.000000  ...               1668.000000   \n",
       "mean                0.206652     0.024725  ...                  0.042578   \n",
       "std                 0.405014     0.155329  ...                  0.222508   \n",
       "min                 0.000000     0.000000  ...                 -1.000000   \n",
       "25%                 0.000000     0.000000  ...                  0.010000   \n",
       "50%                 0.000000     0.000000  ...                  0.020000   \n",
       "75%                 0.000000     0.000000  ...                  0.060000   \n",
       "max                 1.000000     1.000000  ...                  0.930000   \n",
       "\n",
       "         aids    cirrhosis  diabetes_mellitus  hepatic_failure  \\\n",
       "count  1820.0  1820.000000        1820.000000      1820.000000   \n",
       "mean      0.0     0.018132           0.210440         0.016484   \n",
       "std       0.0     0.133465           0.407733         0.127361   \n",
       "min       0.0     0.000000           0.000000         0.000000   \n",
       "25%       0.0     0.000000           0.000000         0.000000   \n",
       "50%       0.0     0.000000           0.000000         0.000000   \n",
       "75%       0.0     0.000000           0.000000         0.000000   \n",
       "max       0.0     1.000000           1.000000         1.000000   \n",
       "\n",
       "       immunosuppression     leukemia     lymphoma  \\\n",
       "count        1820.000000  1820.000000  1820.000000   \n",
       "mean            0.026923     0.008242     0.004396   \n",
       "std             0.161903     0.090434     0.066172   \n",
       "min             0.000000     0.000000     0.000000   \n",
       "25%             0.000000     0.000000     0.000000   \n",
       "50%             0.000000     0.000000     0.000000   \n",
       "75%             0.000000     0.000000     0.000000   \n",
       "max             1.000000     1.000000     1.000000   \n",
       "\n",
       "       solid_tumor_with_metastasis  hospital_death  \n",
       "count                  1820.000000     1834.000000  \n",
       "mean                      0.020879        0.087241  \n",
       "std                       0.143019        0.282265  \n",
       "min                       0.000000        0.000000  \n",
       "25%                       0.000000        0.000000  \n",
       "50%                       0.000000        0.000000  \n",
       "75%                       0.000000        0.000000  \n",
       "max                       1.000000        1.000000  \n",
       "\n",
       "[8 rows x 73 columns]"
      ]
     },
     "execution_count": 14,
     "metadata": {},
     "output_type": "execute_result"
    }
   ],
   "source": [
    "#summary statistics\n",
    "df.describe()"
   ]
  },
  {
   "cell_type": "code",
   "execution_count": 15,
   "id": "1a4324ff-97c9-4421-82d2-b0cdcdc01c91",
   "metadata": {},
   "outputs": [
    {
     "data": {
      "text/plain": [
       "0    1674\n",
       "1     160\n",
       "Name: hospital_death, dtype: int64"
      ]
     },
     "execution_count": 15,
     "metadata": {},
     "output_type": "execute_result"
    }
   ],
   "source": [
    "#the distribution of the dependant variable\n",
    "label = df[\"hospital_death\"].value_counts()\n",
    "label"
   ]
  },
  {
   "cell_type": "code",
   "execution_count": 16,
   "id": "2fd3241b-c6aa-46ff-b953-55ad7627246e",
   "metadata": {},
   "outputs": [
    {
     "data": {
      "image/png": "[encoded data removed]",
      "text/plain": [
       "<Figure size 432x288 with 1 Axes>"
      ]
     },
     "metadata": {
      "needs_background": "light"
     },
     "output_type": "display_data"
    }
   ],
   "source": [
    "#Plot of the distribution of the dependant varialbe showing percentage of the classes\n",
    "x= \"hospital_death\"\n",
    "ax = df[\"hospital_death\"].value_counts().sort_values().plot(kind=\"barh\")\n",
    "totals= []\n",
    "for i in ax.patches:\n",
    "    totals.append(i.get_width())\n",
    "total = sum(totals)\n",
    "for i in ax.patches:\n",
    "     ax.text(i.get_width()+.3, i.get_y()+.20, \n",
    "     str(round((i.get_width()/total)*100, 2))+'%', \n",
    "     fontsize=10, color='black')\n",
    "ax.grid(axis=\"x\")\n",
    "plt.suptitle(x, fontsize=20)\n",
    "plt.show()"
   ]
  },
  {
   "cell_type": "code",
   "execution_count": 17,
   "id": "bb55ed65-670c-4837-b90f-3fee0cf54697",
   "metadata": {},
   "outputs": [
    {
     "data": {
      "text/plain": [
       "0       39.0\n",
       "1       56.0\n",
       "2       48.0\n",
       "3       69.0\n",
       "4       85.0\n",
       "        ... \n",
       "1829    52.0\n",
       "1830    61.0\n",
       "1831    73.0\n",
       "1832    70.0\n",
       "1833    66.0\n",
       "Name: age, Length: 1834, dtype: float64"
      ]
     },
     "execution_count": 17,
     "metadata": {},
     "output_type": "execute_result"
    }
   ],
   "source": [
    "#Age variable\n",
    "Age = df[\"age\"]\n",
    "Age"
   ]
  },
  {
   "cell_type": "code",
   "execution_count": 18,
   "id": "18b593ec-5fc1-4784-b6f8-a4ec5929f4f9",
   "metadata": {},
   "outputs": [
    {
     "data": {
      "text/plain": [
       "0       37.010278\n",
       "1       34.154401\n",
       "2       25.968033\n",
       "3       29.557946\n",
       "4       31.988191\n",
       "          ...    \n",
       "1829    23.951053\n",
       "1830    20.212950\n",
       "1831    17.444079\n",
       "1832    25.558697\n",
       "1833    21.493498\n",
       "Name: bmi, Length: 1834, dtype: float64"
      ]
     },
     "execution_count": 18,
     "metadata": {},
     "output_type": "execute_result"
    }
   ],
   "source": [
    "#BMI variable\n",
    "BMI = df[\"bmi\"]\n",
    "BMI"
   ]
  },
  {
   "cell_type": "code",
   "execution_count": 19,
   "id": "ce8ad9dc-72ea-4ed7-8640-4bf9c50c0bd7",
   "metadata": {},
   "outputs": [
    {
     "data": {
      "text/plain": [
       "0       177.8\n",
       "1       162.6\n",
       "2       175.3\n",
       "3       185.4\n",
       "4       175.3\n",
       "        ...  \n",
       "1829    170.1\n",
       "1830    152.0\n",
       "1831    167.6\n",
       "1832    182.9\n",
       "1833    178.0\n",
       "Name: height, Length: 1834, dtype: float64"
      ]
     },
     "execution_count": 19,
     "metadata": {},
     "output_type": "execute_result"
    }
   ],
   "source": [
    "#Height variable\n",
    "Height = df[\"height\"]\n",
    "Height"
   ]
  },
  {
   "cell_type": "code",
   "execution_count": 20,
   "id": "cdc8c887-3031-4087-af37-a63676cd2bb0",
   "metadata": {},
   "outputs": [
    {
     "data": {
      "text/plain": [
       "0       117.0\n",
       "1        90.3\n",
       "2        79.8\n",
       "3       101.6\n",
       "4        98.3\n",
       "        ...  \n",
       "1829     69.3\n",
       "1830     46.7\n",
       "1831     49.0\n",
       "1832     85.5\n",
       "1833     68.1\n",
       "Name: weight, Length: 1834, dtype: float64"
      ]
     },
     "execution_count": 20,
     "metadata": {},
     "output_type": "execute_result"
    }
   ],
   "source": [
    "#Weight variable\n",
    "Weight = df[\"weight\"]\n",
    "Weight"
   ]
  },
  {
   "cell_type": "code",
   "execution_count": 21,
   "id": "b92d104b-0e91-4891-831b-e5c8c4c94891",
   "metadata": {},
   "outputs": [
    {
     "data": {
      "text/plain": [
       "<AxesSubplot:>"
      ]
     },
     "execution_count": 21,
     "metadata": {},
     "output_type": "execute_result"
    },
    {
     "data": {
      "image/png": "[encoded data removed]",
      "text/plain": [
       "<Figure size 720x792 with 4 Axes>"
      ]
     },
     "metadata": {
      "needs_background": "light"
     },
     "output_type": "display_data"
    }
   ],
   "source": [
    "#Box-plot of the age, height, weight and the bmi variable\n",
    "%matplotlib inline\n",
    "fig, [[ax1,ax2],[ax3,ax4]] = plt.subplots(nrows =2 , ncols =2, figsize =[10,11])\n",
    "Age.plot(kind =\"box\", color =\"r\" , ax=ax1)\n",
    "BMI.plot(kind = \"box\", color = \"r\",ax=ax2)\n",
    "Height.plot(kind = \"box\", color = \"r\", ax=ax3)\n",
    "Weight.plot(kind = \"box\", color = \"r\",ax=ax4)"
   ]
  },
  {
   "cell_type": "code",
   "execution_count": 22,
   "id": "6e1c002a-7267-48e6-882a-0a884149ed82",
   "metadata": {},
   "outputs": [
    {
     "data": {
      "text/plain": [
       "<AxesSubplot:>"
      ]
     },
     "execution_count": 22,
     "metadata": {},
     "output_type": "execute_result"
    },
    {
     "data": {
      "image/png": "[encoded data removed]",
      "text/plain": [
       "<Figure size 576x432 with 2 Axes>"
      ]
     },
     "metadata": {
      "needs_background": "light"
     },
     "output_type": "display_data"
    }
   ],
   "source": [
    "#Heat map for correlation between variables\n",
    "k = 12\n",
    "cols = df.corr().nlargest(k, 'hospital_death')['hospital_death'].index\n",
    "cm = df[cols].corr()\n",
    "plt.figure(figsize=(8,6))\n",
    "sns.heatmap(cm, annot=True, cmap = 'viridis')"
   ]
  },
  {
   "cell_type": "code",
   "execution_count": 23,
   "id": "ac65b752-7898-4371-9c71-1b9a8d4dbd15",
   "metadata": {},
   "outputs": [
    {
     "data": {
      "image/png": "[encoded data removed]",
      "text/plain": [
       "<Figure size 432x288 with 1 Axes>"
      ]
     },
     "metadata": {},
     "output_type": "display_data"
    }
   ],
   "source": [
    "#Random Undersampling\n",
    "from imblearn.under_sampling import RandomUnderSampler\n",
    "rus = RandomUnderSampler(sampling_strategy=1)\n",
    "X_res, y_res = rus.fit_resample(df.drop(\"hospital_death\",axis=1),df[\"hospital_death\"])\n",
    "ax = y_res.value_counts().plot.pie(autopct = \"%.2f\")\n",
    "_=ax.set_title(\"Under - Sampling\")"
   ]
  },
  {
   "cell_type": "code",
   "execution_count": 24,
   "id": "e7704e59-8b2b-4ab6-b6a0-4de205d58647",
   "metadata": {},
   "outputs": [
    {
     "data": {
      "text/plain": [
       "0    160\n",
       "1    160\n",
       "Name: hospital_death, dtype: int64"
      ]
     },
     "execution_count": 24,
     "metadata": {},
     "output_type": "execute_result"
    }
   ],
   "source": [
    "#Current class distribution\n",
    "y_res.value_counts()"
   ]
  },
  {
   "cell_type": "code",
   "execution_count": 25,
   "id": "aa59b3c0-24ba-4f38-8a74-f1b297ebb934",
   "metadata": {},
   "outputs": [
    {
     "data": {
      "text/html": [
       "<div>\n",
       "<style scoped>\n",
       "    .dataframe tbody tr th:only-of-type {\n",
       "        vertical-align: middle;\n",
       "    }\n",
       "\n",
       "    .dataframe tbody tr th {\n",
       "        vertical-align: top;\n",
       "    }\n",
       "\n",
       "    .dataframe thead th {\n",
       "        text-align: right;\n",
       "    }\n",
       "</style>\n",
       "<table border=\"1\" class=\"dataframe\">\n",
       "  <thead>\n",
       "    <tr style=\"text-align: right;\">\n",
       "      <th></th>\n",
       "      <th>age</th>\n",
       "      <th>bmi</th>\n",
       "      <th>elective_surgery</th>\n",
       "      <th>ethnicity</th>\n",
       "      <th>gender</th>\n",
       "      <th>height</th>\n",
       "      <th>icu_admit_source</th>\n",
       "      <th>icu_stay_type</th>\n",
       "      <th>icu_type</th>\n",
       "      <th>pre_icu_los_days</th>\n",
       "      <th>...</th>\n",
       "      <th>cirrhosis</th>\n",
       "      <th>diabetes_mellitus</th>\n",
       "      <th>hepatic_failure</th>\n",
       "      <th>immunosuppression</th>\n",
       "      <th>leukemia</th>\n",
       "      <th>lymphoma</th>\n",
       "      <th>solid_tumor_with_metastasis</th>\n",
       "      <th>apache_3j_bodysystem</th>\n",
       "      <th>apache_2_bodysystem</th>\n",
       "      <th>hospital_death</th>\n",
       "    </tr>\n",
       "  </thead>\n",
       "  <tbody>\n",
       "    <tr>\n",
       "      <th>0</th>\n",
       "      <td>67.0</td>\n",
       "      <td>44.830859</td>\n",
       "      <td>0</td>\n",
       "      <td>Caucasian</td>\n",
       "      <td>F</td>\n",
       "      <td>165.1</td>\n",
       "      <td>Operating Room / Recovery</td>\n",
       "      <td>admit</td>\n",
       "      <td>Med-Surg ICU</td>\n",
       "      <td>0.404167</td>\n",
       "      <td>...</td>\n",
       "      <td>0.0</td>\n",
       "      <td>0.0</td>\n",
       "      <td>0.0</td>\n",
       "      <td>0.0</td>\n",
       "      <td>0.0</td>\n",
       "      <td>0.0</td>\n",
       "      <td>0.0</td>\n",
       "      <td>Cardiovascular</td>\n",
       "      <td>Cardiovascular</td>\n",
       "      <td>0</td>\n",
       "    </tr>\n",
       "    <tr>\n",
       "      <th>1</th>\n",
       "      <td>70.0</td>\n",
       "      <td>33.519700</td>\n",
       "      <td>1</td>\n",
       "      <td>Caucasian</td>\n",
       "      <td>M</td>\n",
       "      <td>170.2</td>\n",
       "      <td>Operating Room / Recovery</td>\n",
       "      <td>admit</td>\n",
       "      <td>SICU</td>\n",
       "      <td>0.254167</td>\n",
       "      <td>...</td>\n",
       "      <td>0.0</td>\n",
       "      <td>0.0</td>\n",
       "      <td>0.0</td>\n",
       "      <td>0.0</td>\n",
       "      <td>0.0</td>\n",
       "      <td>0.0</td>\n",
       "      <td>0.0</td>\n",
       "      <td>Genitourinary</td>\n",
       "      <td>Renal/Genitourinary</td>\n",
       "      <td>0</td>\n",
       "    </tr>\n",
       "    <tr>\n",
       "      <th>2</th>\n",
       "      <td>29.0</td>\n",
       "      <td>26.106562</td>\n",
       "      <td>0</td>\n",
       "      <td>Caucasian</td>\n",
       "      <td>F</td>\n",
       "      <td>159.0</td>\n",
       "      <td>Accident &amp; Emergency</td>\n",
       "      <td>admit</td>\n",
       "      <td>Med-Surg ICU</td>\n",
       "      <td>0.200000</td>\n",
       "      <td>...</td>\n",
       "      <td>0.0</td>\n",
       "      <td>0.0</td>\n",
       "      <td>0.0</td>\n",
       "      <td>0.0</td>\n",
       "      <td>0.0</td>\n",
       "      <td>0.0</td>\n",
       "      <td>0.0</td>\n",
       "      <td>Genitourinary</td>\n",
       "      <td>Renal/Genitourinary</td>\n",
       "      <td>0</td>\n",
       "    </tr>\n",
       "    <tr>\n",
       "      <th>3</th>\n",
       "      <td>59.0</td>\n",
       "      <td>46.953125</td>\n",
       "      <td>1</td>\n",
       "      <td>Caucasian</td>\n",
       "      <td>F</td>\n",
       "      <td>160.0</td>\n",
       "      <td>Operating Room / Recovery</td>\n",
       "      <td>admit</td>\n",
       "      <td>Med-Surg ICU</td>\n",
       "      <td>0.497917</td>\n",
       "      <td>...</td>\n",
       "      <td>0.0</td>\n",
       "      <td>0.0</td>\n",
       "      <td>0.0</td>\n",
       "      <td>0.0</td>\n",
       "      <td>0.0</td>\n",
       "      <td>0.0</td>\n",
       "      <td>0.0</td>\n",
       "      <td>Gastrointestinal</td>\n",
       "      <td>Gastrointestinal</td>\n",
       "      <td>0</td>\n",
       "    </tr>\n",
       "    <tr>\n",
       "      <th>4</th>\n",
       "      <td>38.0</td>\n",
       "      <td>29.653979</td>\n",
       "      <td>0</td>\n",
       "      <td>African American</td>\n",
       "      <td>F</td>\n",
       "      <td>170.0</td>\n",
       "      <td>Accident &amp; Emergency</td>\n",
       "      <td>admit</td>\n",
       "      <td>Med-Surg ICU</td>\n",
       "      <td>0.331944</td>\n",
       "      <td>...</td>\n",
       "      <td>0.0</td>\n",
       "      <td>0.0</td>\n",
       "      <td>0.0</td>\n",
       "      <td>0.0</td>\n",
       "      <td>0.0</td>\n",
       "      <td>0.0</td>\n",
       "      <td>0.0</td>\n",
       "      <td>Respiratory</td>\n",
       "      <td>Respiratory</td>\n",
       "      <td>0</td>\n",
       "    </tr>\n",
       "  </tbody>\n",
       "</table>\n",
       "<p>5 rows × 80 columns</p>\n",
       "</div>"
      ],
      "text/plain": [
       "    age        bmi  elective_surgery         ethnicity gender  height  \\\n",
       "0  67.0  44.830859                 0         Caucasian      F   165.1   \n",
       "1  70.0  33.519700                 1         Caucasian      M   170.2   \n",
       "2  29.0  26.106562                 0         Caucasian      F   159.0   \n",
       "3  59.0  46.953125                 1         Caucasian      F   160.0   \n",
       "4  38.0  29.653979                 0  African American      F   170.0   \n",
       "\n",
       "            icu_admit_source icu_stay_type      icu_type  pre_icu_los_days  \\\n",
       "0  Operating Room / Recovery         admit  Med-Surg ICU          0.404167   \n",
       "1  Operating Room / Recovery         admit          SICU          0.254167   \n",
       "2       Accident & Emergency         admit  Med-Surg ICU          0.200000   \n",
       "3  Operating Room / Recovery         admit  Med-Surg ICU          0.497917   \n",
       "4       Accident & Emergency         admit  Med-Surg ICU          0.331944   \n",
       "\n",
       "   ...  cirrhosis  diabetes_mellitus  hepatic_failure  immunosuppression  \\\n",
       "0  ...        0.0                0.0              0.0                0.0   \n",
       "1  ...        0.0                0.0              0.0                0.0   \n",
       "2  ...        0.0                0.0              0.0                0.0   \n",
       "3  ...        0.0                0.0              0.0                0.0   \n",
       "4  ...        0.0                0.0              0.0                0.0   \n",
       "\n",
       "   leukemia  lymphoma  solid_tumor_with_metastasis  apache_3j_bodysystem  \\\n",
       "0       0.0       0.0                          0.0        Cardiovascular   \n",
       "1       0.0       0.0                          0.0         Genitourinary   \n",
       "2       0.0       0.0                          0.0         Genitourinary   \n",
       "3       0.0       0.0                          0.0      Gastrointestinal   \n",
       "4       0.0       0.0                          0.0           Respiratory   \n",
       "\n",
       "   apache_2_bodysystem  hospital_death  \n",
       "0       Cardiovascular               0  \n",
       "1  Renal/Genitourinary               0  \n",
       "2  Renal/Genitourinary               0  \n",
       "3     Gastrointestinal               0  \n",
       "4          Respiratory               0  \n",
       "\n",
       "[5 rows x 80 columns]"
      ]
     },
     "execution_count": 25,
     "metadata": {},
     "output_type": "execute_result"
    }
   ],
   "source": [
    "#concatinating the x and y samples together\n",
    "df_new = pd.concat([X_res,y_res], axis=1)\n",
    "df_new.head()"
   ]
  },
  {
   "cell_type": "code",
   "execution_count": 26,
   "id": "fdaf9c20-bf8c-469f-9c42-b20eb009cd18",
   "metadata": {},
   "outputs": [
    {
     "data": {
      "text/plain": [
       "age                            18\n",
       "bmi                             8\n",
       "elective_surgery                0\n",
       "ethnicity                       2\n",
       "gender                          0\n",
       "                               ..\n",
       "lymphoma                        3\n",
       "solid_tumor_with_metastasis     3\n",
       "apache_3j_bodysystem            7\n",
       "apache_2_bodysystem             7\n",
       "hospital_death                  0\n",
       "Length: 80, dtype: int64"
      ]
     },
     "execution_count": 26,
     "metadata": {},
     "output_type": "execute_result"
    }
   ],
   "source": [
    "##checking the number of missing values in each variable\n",
    "df_new.isnull().sum()"
   ]
  },
  {
   "cell_type": "code",
   "execution_count": 27,
   "id": "7f82d41d-884e-4034-8f07-ef975c0de97d",
   "metadata": {},
   "outputs": [
    {
     "data": {
      "text/plain": [
       "age                            5.6250\n",
       "bmi                            2.5000\n",
       "elective_surgery               0.0000\n",
       "ethnicity                      0.6250\n",
       "gender                         0.0000\n",
       "                                ...  \n",
       "lymphoma                       0.9375\n",
       "solid_tumor_with_metastasis    0.9375\n",
       "apache_3j_bodysystem           2.1875\n",
       "apache_2_bodysystem            2.1875\n",
       "hospital_death                 0.0000\n",
       "Length: 80, dtype: float64"
      ]
     },
     "execution_count": 27,
     "metadata": {},
     "output_type": "execute_result"
    }
   ],
   "source": [
    "## Percentage of missing values\n",
    "missing_percentage = df_new.isnull().sum() / df_new.shape[0] * 100.00\n",
    "missing_percentage"
   ]
  },
  {
   "cell_type": "code",
   "execution_count": 28,
   "id": "1b661bba-adcb-406d-be39-399f14e82756",
   "metadata": {},
   "outputs": [],
   "source": [
    "#dropping the missing values in the training dataset\n",
    "df_new = df_new.dropna()"
   ]
  },
  {
   "cell_type": "code",
   "execution_count": 29,
   "id": "25b833e6-8dc2-4126-bc31-8df310b6b826",
   "metadata": {},
   "outputs": [
    {
     "data": {
      "text/plain": [
       "age                            0\n",
       "bmi                            0\n",
       "elective_surgery               0\n",
       "ethnicity                      0\n",
       "gender                         0\n",
       "                              ..\n",
       "lymphoma                       0\n",
       "solid_tumor_with_metastasis    0\n",
       "apache_3j_bodysystem           0\n",
       "apache_2_bodysystem            0\n",
       "hospital_death                 0\n",
       "Length: 80, dtype: int64"
      ]
     },
     "execution_count": 29,
     "metadata": {},
     "output_type": "execute_result"
    }
   ],
   "source": [
    "##checking the missing values after dropping them\n",
    "df_new.isnull().sum()"
   ]
  },
  {
   "cell_type": "code",
   "execution_count": 30,
   "id": "775fd6f2-51c3-4b30-a644-2c14e2c2c132",
   "metadata": {},
   "outputs": [
    {
     "data": {
      "text/plain": [
       "Caucasian           168\n",
       "African American     14\n",
       "Other/Unknown         7\n",
       "Hispanic              5\n",
       "Native American       2\n",
       "Asian                 1\n",
       "Name: ethnicity, dtype: int64"
      ]
     },
     "execution_count": 30,
     "metadata": {},
     "output_type": "execute_result"
    }
   ],
   "source": [
    "##checking the groups in the variable ethnicity\n",
    "df_new[\"ethnicity\"].value_counts()"
   ]
  },
  {
   "cell_type": "code",
   "execution_count": 31,
   "id": "2f466426-2f26-4bcc-a258-e5c484bad81c",
   "metadata": {},
   "outputs": [
    {
     "name": "stdout",
     "output_type": "stream",
     "text": [
      "   ethnicity  ethnicity_Asian  ethnicity_Caucasian  ethnicity_Hispanic  \\\n",
      "0  Caucasian                0                    1                   0   \n",
      "1  Caucasian                0                    1                   0   \n",
      "2  Caucasian                0                    1                   0   \n",
      "3  Caucasian                0                    1                   0   \n",
      "5  Caucasian                0                    1                   0   \n",
      "\n",
      "   ethnicity_Native American  ethnicity_Other/Unknown  \n",
      "0                          0                        0  \n",
      "1                          0                        0  \n",
      "2                          0                        0  \n",
      "3                          0                        0  \n",
      "5                          0                        0  \n"
     ]
    }
   ],
   "source": [
    "#setting dummy variables\n",
    "## create dummy for ethnicity\n",
    "dummy_ethnic = pd.get_dummies(df_new[\"ethnicity\"], \n",
    "                       prefix=\"ethnicity\",drop_first=True)\n",
    "df_new= pd.concat([df_new, dummy_ethnic], axis=1)\n",
    "print( df_new.filter(like=\"ethnicity\",axis=1).head() )\n",
    "## drop the original categorical column\n",
    "df_new = df_new.drop(\"ethnicity\", axis=1)\n"
   ]
  },
  {
   "cell_type": "code",
   "execution_count": 32,
   "id": "a64e2b65-5b35-4d64-8ea8-10115baaf7b4",
   "metadata": {},
   "outputs": [
    {
     "name": "stdout",
     "output_type": "stream",
     "text": [
      "  gender  gender_M\n",
      "0      F         0\n",
      "1      M         1\n",
      "2      F         0\n",
      "3      F         0\n",
      "5      F         0\n"
     ]
    }
   ],
   "source": [
    "## create dummy for gender\n",
    "dummy_gender = pd.get_dummies(df_new[\"gender\"], \n",
    "                       prefix=\"gender\",drop_first=True)\n",
    "df_new= pd.concat([df_new, dummy_gender], axis=1)\n",
    "print( df_new.filter(like=\"gender\",axis=1).head() )\n",
    "## drop the original categorical column\n",
    "df_new = df_new.drop(\"gender\", axis=1)"
   ]
  },
  {
   "cell_type": "code",
   "execution_count": 33,
   "id": "368a4df0-0f44-463d-9ab7-e1d3d7fae9f3",
   "metadata": {},
   "outputs": [
    {
     "name": "stdout",
     "output_type": "stream",
     "text": [
      "  icu_stay_type  icu_stay_type_readmit  icu_stay_type_transfer\n",
      "0         admit                      0                       0\n",
      "1         admit                      0                       0\n",
      "2         admit                      0                       0\n",
      "3         admit                      0                       0\n",
      "5         admit                      0                       0\n"
     ]
    }
   ],
   "source": [
    "## create dummy for icu stay type\n",
    "dummy_icu_stay_type = pd.get_dummies(df_new[\"icu_stay_type\"], \n",
    "                       prefix=\"icu_stay_type\",drop_first=True)\n",
    "df_new= pd.concat([df_new, dummy_icu_stay_type], axis=1)\n",
    "print( df_new.filter(like=\"icu_stay_type\",axis=1).head() )\n",
    "## drop the original categorical column\n",
    "df_new = df_new.drop(\"icu_stay_type\", axis=1)"
   ]
  },
  {
   "cell_type": "code",
   "execution_count": 34,
   "id": "7cb3d7df-fec2-4002-9285-099c1b1f7230",
   "metadata": {},
   "outputs": [
    {
     "name": "stdout",
     "output_type": "stream",
     "text": [
      "       icu_type  icu_type_CSICU  icu_type_CTICU  icu_type_Cardiac ICU  \\\n",
      "0  Med-Surg ICU               0               0                     0   \n",
      "1          SICU               0               0                     0   \n",
      "2  Med-Surg ICU               0               0                     0   \n",
      "3  Med-Surg ICU               0               0                     0   \n",
      "5         CSICU               1               0                     0   \n",
      "\n",
      "   icu_type_MICU  icu_type_Med-Surg ICU  icu_type_Neuro ICU  icu_type_SICU  \n",
      "0              0                      1                   0              0  \n",
      "1              0                      0                   0              1  \n",
      "2              0                      1                   0              0  \n",
      "3              0                      1                   0              0  \n",
      "5              0                      0                   0              0  \n"
     ]
    }
   ],
   "source": [
    "## create dummy for icu type\n",
    "dummy_icu_type  = pd.get_dummies(df_new[\"icu_type\"], \n",
    "                       prefix=\"icu_type\",drop_first=True)\n",
    "df_new= pd.concat([df_new, dummy_icu_type ], axis=1)\n",
    "print( df_new.filter(like=\"icu_type\",axis=1).head() )\n",
    "## drop the original categorical column\n",
    "df_new = df_new.drop(\"icu_type\", axis=1)"
   ]
  },
  {
   "cell_type": "code",
   "execution_count": 35,
   "id": "bf6954ec-fb09-4437-bda2-9bcb553e0a2c",
   "metadata": {},
   "outputs": [
    {
     "name": "stdout",
     "output_type": "stream",
     "text": [
      "            icu_admit_source  icu_admit_source_Floor  \\\n",
      "0  Operating Room / Recovery                       0   \n",
      "1  Operating Room / Recovery                       0   \n",
      "2       Accident & Emergency                       0   \n",
      "3  Operating Room / Recovery                       0   \n",
      "5  Operating Room / Recovery                       0   \n",
      "\n",
      "   icu_admit_source_Operating Room / Recovery  \\\n",
      "0                                           1   \n",
      "1                                           1   \n",
      "2                                           0   \n",
      "3                                           1   \n",
      "5                                           1   \n",
      "\n",
      "   icu_admit_source_Other Hospital  icu_admit_source_Other ICU  \n",
      "0                                0                           0  \n",
      "1                                0                           0  \n",
      "2                                0                           0  \n",
      "3                                0                           0  \n",
      "5                                0                           0  \n"
     ]
    }
   ],
   "source": [
    "## create dummy for icu admit source\n",
    "dummy_icu_admit_source   = pd.get_dummies(df_new[\"icu_admit_source\"], \n",
    "                       prefix=\"icu_admit_source\",drop_first=True)\n",
    "df_new= pd.concat([df_new, dummy_icu_admit_source  ], axis=1)\n",
    "print( df_new.filter(like=\"icu_admit_source\",axis=1).head() )\n",
    "## drop the original categorical column\n",
    "df_new = df_new.drop(\"icu_admit_source\", axis=1)"
   ]
  },
  {
   "cell_type": "code",
   "execution_count": 36,
   "id": "bf39306a-1edc-4af5-bdb7-c0851a63c460",
   "metadata": {},
   "outputs": [
    {
     "name": "stdout",
     "output_type": "stream",
     "text": [
      "  apache_3j_bodysystem  apache_3j_bodysystem_Gastrointestinal  \\\n",
      "0       Cardiovascular                                      0   \n",
      "1        Genitourinary                                      0   \n",
      "2        Genitourinary                                      0   \n",
      "3     Gastrointestinal                                      1   \n",
      "5       Cardiovascular                                      0   \n",
      "\n",
      "   apache_3j_bodysystem_Genitourinary  apache_3j_bodysystem_Hematological  \\\n",
      "0                                   0                                   0   \n",
      "1                                   1                                   0   \n",
      "2                                   1                                   0   \n",
      "3                                   0                                   0   \n",
      "5                                   0                                   0   \n",
      "\n",
      "   apache_3j_bodysystem_Metabolic  apache_3j_bodysystem_Musculoskeletal/Skin  \\\n",
      "0                               0                                          0   \n",
      "1                               0                                          0   \n",
      "2                               0                                          0   \n",
      "3                               0                                          0   \n",
      "5                               0                                          0   \n",
      "\n",
      "   apache_3j_bodysystem_Neurological  apache_3j_bodysystem_Respiratory  \\\n",
      "0                                  0                                 0   \n",
      "1                                  0                                 0   \n",
      "2                                  0                                 0   \n",
      "3                                  0                                 0   \n",
      "5                                  0                                 0   \n",
      "\n",
      "   apache_3j_bodysystem_Sepsis  apache_3j_bodysystem_Trauma  \n",
      "0                            0                            0  \n",
      "1                            0                            0  \n",
      "2                            0                            0  \n",
      "3                            0                            0  \n",
      "5                            0                            0  \n"
     ]
    }
   ],
   "source": [
    "## create dummy for apache 3j bodysystem\n",
    "dummy_apache_3j_bodysystem = pd.get_dummies(df_new[\"apache_3j_bodysystem\"], \n",
    "                       prefix=\"apache_3j_bodysystem\",drop_first=True)\n",
    "df_new= pd.concat([df_new, dummy_apache_3j_bodysystem], axis=1)\n",
    "print( df_new.filter(like=\"apache_3j_bodysystem\",axis=1).head() )\n",
    "## drop the original categorical column\n",
    "df_new = df_new.drop(\"apache_3j_bodysystem\", axis=1)"
   ]
  },
  {
   "cell_type": "code",
   "execution_count": 37,
   "id": "226955e4-d223-4ceb-9326-03f1d5580aa6",
   "metadata": {},
   "outputs": [
    {
     "name": "stdout",
     "output_type": "stream",
     "text": [
      "   apache_2_bodysystem  apache_2_bodysystem_Gastrointestinal  \\\n",
      "0       Cardiovascular                                     0   \n",
      "1  Renal/Genitourinary                                     0   \n",
      "2  Renal/Genitourinary                                     0   \n",
      "3     Gastrointestinal                                     1   \n",
      "5       Cardiovascular                                     0   \n",
      "\n",
      "   apache_2_bodysystem_Haematologic  apache_2_bodysystem_Metabolic  \\\n",
      "0                                 0                              0   \n",
      "1                                 0                              0   \n",
      "2                                 0                              0   \n",
      "3                                 0                              0   \n",
      "5                                 0                              0   \n",
      "\n",
      "   apache_2_bodysystem_Neurologic  apache_2_bodysystem_Renal/Genitourinary  \\\n",
      "0                               0                                        0   \n",
      "1                               0                                        1   \n",
      "2                               0                                        1   \n",
      "3                               0                                        0   \n",
      "5                               0                                        0   \n",
      "\n",
      "   apache_2_bodysystem_Respiratory  apache_2_bodysystem_Trauma  \\\n",
      "0                                0                           0   \n",
      "1                                0                           0   \n",
      "2                                0                           0   \n",
      "3                                0                           0   \n",
      "5                                0                           0   \n",
      "\n",
      "   apache_2_bodysystem_Undefined Diagnoses  \\\n",
      "0                                        0   \n",
      "1                                        0   \n",
      "2                                        0   \n",
      "3                                        0   \n",
      "5                                        0   \n",
      "\n",
      "   apache_2_bodysystem_Undefined diagnoses  \n",
      "0                                        0  \n",
      "1                                        0  \n",
      "2                                        0  \n",
      "3                                        0  \n",
      "5                                        0  \n"
     ]
    }
   ],
   "source": [
    "## create dummy for apache 2 bodysystem\n",
    "dummy_apache_2_bodysystem = pd.get_dummies(df_new[\"apache_2_bodysystem\"], \n",
    "                       prefix=\"apache_2_bodysystem\",drop_first=True)\n",
    "df_new= pd.concat([df_new, dummy_apache_2_bodysystem], axis=1)\n",
    "print( df_new.filter(like=\"apache_2_bodysystem\",axis=1).head() )\n",
    "## drop the original categorical column\n",
    "df_new = df_new.drop(\"apache_2_bodysystem\", axis=1)"
   ]
  },
  {
   "cell_type": "markdown",
   "id": "af0ea254-3ed0-4fe8-befb-c0647b7010f8",
   "metadata": {},
   "source": [
    "# Feature Scaling"
   ]
  },
  {
   "cell_type": "code",
   "execution_count": 38,
   "id": "39669a82-c048-41ef-a4fb-aac568c26a0a",
   "metadata": {},
   "outputs": [
    {
     "data": {
      "text/html": [
       "<div>\n",
       "<style scoped>\n",
       "    .dataframe tbody tr th:only-of-type {\n",
       "        vertical-align: middle;\n",
       "    }\n",
       "\n",
       "    .dataframe tbody tr th {\n",
       "        vertical-align: top;\n",
       "    }\n",
       "\n",
       "    .dataframe thead th {\n",
       "        text-align: right;\n",
       "    }\n",
       "</style>\n",
       "<table border=\"1\" class=\"dataframe\">\n",
       "  <thead>\n",
       "    <tr style=\"text-align: right;\">\n",
       "      <th></th>\n",
       "      <th>age</th>\n",
       "      <th>bmi</th>\n",
       "      <th>elective_surgery</th>\n",
       "      <th>height</th>\n",
       "      <th>pre_icu_los_days</th>\n",
       "      <th>weight</th>\n",
       "      <th>apache_2_diagnosis</th>\n",
       "      <th>apache_3j_diagnosis</th>\n",
       "      <th>apache_post_operative</th>\n",
       "      <th>arf_apache</th>\n",
       "      <th>...</th>\n",
       "      <th>apache_2_bodysystem_Gastrointestinal</th>\n",
       "      <th>apache_2_bodysystem_Haematologic</th>\n",
       "      <th>apache_2_bodysystem_Metabolic</th>\n",
       "      <th>apache_2_bodysystem_Neurologic</th>\n",
       "      <th>apache_2_bodysystem_Renal/Genitourinary</th>\n",
       "      <th>apache_2_bodysystem_Respiratory</th>\n",
       "      <th>apache_2_bodysystem_Trauma</th>\n",
       "      <th>apache_2_bodysystem_Undefined Diagnoses</th>\n",
       "      <th>apache_2_bodysystem_Undefined diagnoses</th>\n",
       "      <th>hospital_death</th>\n",
       "    </tr>\n",
       "  </thead>\n",
       "  <tbody>\n",
       "    <tr>\n",
       "      <th>0</th>\n",
       "      <td>0.000000</td>\n",
       "      <td>1.812881</td>\n",
       "      <td>0.0</td>\n",
       "      <td>-0.328947</td>\n",
       "      <td>0.394995</td>\n",
       "      <td>1.242690</td>\n",
       "      <td>0.029703</td>\n",
       "      <td>-1.027027</td>\n",
       "      <td>0.0</td>\n",
       "      <td>0.0</td>\n",
       "      <td>...</td>\n",
       "      <td>0.0</td>\n",
       "      <td>0.0</td>\n",
       "      <td>0.0</td>\n",
       "      <td>0.0</td>\n",
       "      <td>0.0</td>\n",
       "      <td>0.0</td>\n",
       "      <td>0.0</td>\n",
       "      <td>0.0</td>\n",
       "      <td>0.0</td>\n",
       "      <td>-1.0</td>\n",
       "    </tr>\n",
       "    <tr>\n",
       "      <th>1</th>\n",
       "      <td>0.166667</td>\n",
       "      <td>0.662788</td>\n",
       "      <td>1.0</td>\n",
       "      <td>0.006579</td>\n",
       "      <td>0.159956</td>\n",
       "      <td>0.508772</td>\n",
       "      <td>1.000000</td>\n",
       "      <td>4.361554</td>\n",
       "      <td>1.0</td>\n",
       "      <td>0.0</td>\n",
       "      <td>...</td>\n",
       "      <td>0.0</td>\n",
       "      <td>0.0</td>\n",
       "      <td>0.0</td>\n",
       "      <td>0.0</td>\n",
       "      <td>1.0</td>\n",
       "      <td>0.0</td>\n",
       "      <td>0.0</td>\n",
       "      <td>0.0</td>\n",
       "      <td>0.0</td>\n",
       "      <td>-1.0</td>\n",
       "    </tr>\n",
       "    <tr>\n",
       "      <th>2</th>\n",
       "      <td>-2.111111</td>\n",
       "      <td>-0.090963</td>\n",
       "      <td>0.0</td>\n",
       "      <td>-0.730263</td>\n",
       "      <td>0.075082</td>\n",
       "      <td>-0.400585</td>\n",
       "      <td>1.891089</td>\n",
       "      <td>1.662162</td>\n",
       "      <td>0.0</td>\n",
       "      <td>0.0</td>\n",
       "      <td>...</td>\n",
       "      <td>0.0</td>\n",
       "      <td>0.0</td>\n",
       "      <td>0.0</td>\n",
       "      <td>0.0</td>\n",
       "      <td>1.0</td>\n",
       "      <td>0.0</td>\n",
       "      <td>0.0</td>\n",
       "      <td>0.0</td>\n",
       "      <td>0.0</td>\n",
       "      <td>-1.0</td>\n",
       "    </tr>\n",
       "    <tr>\n",
       "      <th>3</th>\n",
       "      <td>-0.444444</td>\n",
       "      <td>2.028668</td>\n",
       "      <td>1.0</td>\n",
       "      <td>-0.664474</td>\n",
       "      <td>0.541893</td>\n",
       "      <td>1.184211</td>\n",
       "      <td>0.990099</td>\n",
       "      <td>3.358108</td>\n",
       "      <td>1.0</td>\n",
       "      <td>0.0</td>\n",
       "      <td>...</td>\n",
       "      <td>1.0</td>\n",
       "      <td>0.0</td>\n",
       "      <td>0.0</td>\n",
       "      <td>0.0</td>\n",
       "      <td>0.0</td>\n",
       "      <td>0.0</td>\n",
       "      <td>0.0</td>\n",
       "      <td>0.0</td>\n",
       "      <td>0.0</td>\n",
       "      <td>-1.0</td>\n",
       "    </tr>\n",
       "    <tr>\n",
       "      <th>5</th>\n",
       "      <td>-0.500000</td>\n",
       "      <td>0.910044</td>\n",
       "      <td>1.0</td>\n",
       "      <td>-1.164474</td>\n",
       "      <td>0.260065</td>\n",
       "      <td>0.111111</td>\n",
       "      <td>0.881188</td>\n",
       "      <td>2.709527</td>\n",
       "      <td>1.0</td>\n",
       "      <td>0.0</td>\n",
       "      <td>...</td>\n",
       "      <td>0.0</td>\n",
       "      <td>0.0</td>\n",
       "      <td>0.0</td>\n",
       "      <td>0.0</td>\n",
       "      <td>0.0</td>\n",
       "      <td>0.0</td>\n",
       "      <td>0.0</td>\n",
       "      <td>0.0</td>\n",
       "      <td>0.0</td>\n",
       "      <td>-1.0</td>\n",
       "    </tr>\n",
       "  </tbody>\n",
       "</table>\n",
       "<p>5 rows × 110 columns</p>\n",
       "</div>"
      ],
      "text/plain": [
       "        age       bmi  elective_surgery    height  pre_icu_los_days    weight  \\\n",
       "0  0.000000  1.812881               0.0 -0.328947          0.394995  1.242690   \n",
       "1  0.166667  0.662788               1.0  0.006579          0.159956  0.508772   \n",
       "2 -2.111111 -0.090963               0.0 -0.730263          0.075082 -0.400585   \n",
       "3 -0.444444  2.028668               1.0 -0.664474          0.541893  1.184211   \n",
       "5 -0.500000  0.910044               1.0 -1.164474          0.260065  0.111111   \n",
       "\n",
       "   apache_2_diagnosis  apache_3j_diagnosis  apache_post_operative  arf_apache  \\\n",
       "0            0.029703            -1.027027                    0.0         0.0   \n",
       "1            1.000000             4.361554                    1.0         0.0   \n",
       "2            1.891089             1.662162                    0.0         0.0   \n",
       "3            0.990099             3.358108                    1.0         0.0   \n",
       "5            0.881188             2.709527                    1.0         0.0   \n",
       "\n",
       "   ...  apache_2_bodysystem_Gastrointestinal  \\\n",
       "0  ...                                   0.0   \n",
       "1  ...                                   0.0   \n",
       "2  ...                                   0.0   \n",
       "3  ...                                   1.0   \n",
       "5  ...                                   0.0   \n",
       "\n",
       "   apache_2_bodysystem_Haematologic  apache_2_bodysystem_Metabolic  \\\n",
       "0                               0.0                            0.0   \n",
       "1                               0.0                            0.0   \n",
       "2                               0.0                            0.0   \n",
       "3                               0.0                            0.0   \n",
       "5                               0.0                            0.0   \n",
       "\n",
       "   apache_2_bodysystem_Neurologic  apache_2_bodysystem_Renal/Genitourinary  \\\n",
       "0                             0.0                                      0.0   \n",
       "1                             0.0                                      1.0   \n",
       "2                             0.0                                      1.0   \n",
       "3                             0.0                                      0.0   \n",
       "5                             0.0                                      0.0   \n",
       "\n",
       "   apache_2_bodysystem_Respiratory  apache_2_bodysystem_Trauma  \\\n",
       "0                              0.0                         0.0   \n",
       "1                              0.0                         0.0   \n",
       "2                              0.0                         0.0   \n",
       "3                              0.0                         0.0   \n",
       "5                              0.0                         0.0   \n",
       "\n",
       "   apache_2_bodysystem_Undefined Diagnoses  \\\n",
       "0                                      0.0   \n",
       "1                                      0.0   \n",
       "2                                      0.0   \n",
       "3                                      0.0   \n",
       "5                                      0.0   \n",
       "\n",
       "   apache_2_bodysystem_Undefined diagnoses  hospital_death  \n",
       "0                                      0.0            -1.0  \n",
       "1                                      0.0            -1.0  \n",
       "2                                      0.0            -1.0  \n",
       "3                                      0.0            -1.0  \n",
       "5                                      0.0            -1.0  \n",
       "\n",
       "[5 rows x 110 columns]"
      ]
     },
     "execution_count": 38,
     "metadata": {},
     "output_type": "execute_result"
    }
   ],
   "source": [
    "\n",
    "## scale X\n",
    "scalerX = preprocessing.RobustScaler(quantile_range=(25.0, 75.0))\n",
    "X = scalerX.fit_transform(df_new.drop(\"hospital_death\", axis=1))\n",
    "df_scaled= pd.DataFrame(X, columns=df_new.drop(\"hospital_death\", \n",
    "                        axis=1).columns, index=df_new.index)\n",
    "df_scaled.head()\n",
    "## scale Y\n",
    "scalerY = preprocessing.RobustScaler(quantile_range=(25.0, 75.0))\n",
    "df_scaled[\"hospital_death\"] = scalerY.fit_transform(\n",
    "                   df_new[\"hospital_death\"].values.reshape(-1,1))\n",
    "df_scaled.head()"
   ]
  },
  {
   "cell_type": "code",
   "execution_count": 39,
   "id": "ca9f0317-ae6c-4225-9c84-9ff4743075d6",
   "metadata": {},
   "outputs": [
    {
     "data": {
      "text/html": [
       "<div>\n",
       "<style scoped>\n",
       "    .dataframe tbody tr th:only-of-type {\n",
       "        vertical-align: middle;\n",
       "    }\n",
       "\n",
       "    .dataframe tbody tr th {\n",
       "        vertical-align: top;\n",
       "    }\n",
       "\n",
       "    .dataframe thead th {\n",
       "        text-align: right;\n",
       "    }\n",
       "</style>\n",
       "<table border=\"1\" class=\"dataframe\">\n",
       "  <thead>\n",
       "    <tr style=\"text-align: right;\">\n",
       "      <th></th>\n",
       "      <th>age</th>\n",
       "      <th>bmi</th>\n",
       "      <th>elective_surgery</th>\n",
       "      <th>height</th>\n",
       "      <th>pre_icu_los_days</th>\n",
       "      <th>weight</th>\n",
       "      <th>apache_2_diagnosis</th>\n",
       "      <th>apache_3j_diagnosis</th>\n",
       "      <th>apache_post_operative</th>\n",
       "      <th>arf_apache</th>\n",
       "      <th>...</th>\n",
       "      <th>apache_2_bodysystem_Gastrointestinal</th>\n",
       "      <th>apache_2_bodysystem_Haematologic</th>\n",
       "      <th>apache_2_bodysystem_Metabolic</th>\n",
       "      <th>apache_2_bodysystem_Neurologic</th>\n",
       "      <th>apache_2_bodysystem_Renal/Genitourinary</th>\n",
       "      <th>apache_2_bodysystem_Respiratory</th>\n",
       "      <th>apache_2_bodysystem_Trauma</th>\n",
       "      <th>apache_2_bodysystem_Undefined Diagnoses</th>\n",
       "      <th>apache_2_bodysystem_Undefined diagnoses</th>\n",
       "      <th>hospital_death</th>\n",
       "    </tr>\n",
       "  </thead>\n",
       "  <tbody>\n",
       "    <tr>\n",
       "      <th>0</th>\n",
       "      <td>0.000000</td>\n",
       "      <td>1.812881</td>\n",
       "      <td>0.0</td>\n",
       "      <td>-0.328947</td>\n",
       "      <td>0.394995</td>\n",
       "      <td>1.242690</td>\n",
       "      <td>0.029703</td>\n",
       "      <td>-1.027027</td>\n",
       "      <td>0.0</td>\n",
       "      <td>0.0</td>\n",
       "      <td>...</td>\n",
       "      <td>0.0</td>\n",
       "      <td>0.0</td>\n",
       "      <td>0.0</td>\n",
       "      <td>0.0</td>\n",
       "      <td>0.0</td>\n",
       "      <td>0.0</td>\n",
       "      <td>0.0</td>\n",
       "      <td>0.0</td>\n",
       "      <td>0.0</td>\n",
       "      <td>0</td>\n",
       "    </tr>\n",
       "    <tr>\n",
       "      <th>1</th>\n",
       "      <td>0.166667</td>\n",
       "      <td>0.662788</td>\n",
       "      <td>1.0</td>\n",
       "      <td>0.006579</td>\n",
       "      <td>0.159956</td>\n",
       "      <td>0.508772</td>\n",
       "      <td>1.000000</td>\n",
       "      <td>4.361554</td>\n",
       "      <td>1.0</td>\n",
       "      <td>0.0</td>\n",
       "      <td>...</td>\n",
       "      <td>0.0</td>\n",
       "      <td>0.0</td>\n",
       "      <td>0.0</td>\n",
       "      <td>0.0</td>\n",
       "      <td>1.0</td>\n",
       "      <td>0.0</td>\n",
       "      <td>0.0</td>\n",
       "      <td>0.0</td>\n",
       "      <td>0.0</td>\n",
       "      <td>0</td>\n",
       "    </tr>\n",
       "    <tr>\n",
       "      <th>2</th>\n",
       "      <td>-2.111111</td>\n",
       "      <td>-0.090963</td>\n",
       "      <td>0.0</td>\n",
       "      <td>-0.730263</td>\n",
       "      <td>0.075082</td>\n",
       "      <td>-0.400585</td>\n",
       "      <td>1.891089</td>\n",
       "      <td>1.662162</td>\n",
       "      <td>0.0</td>\n",
       "      <td>0.0</td>\n",
       "      <td>...</td>\n",
       "      <td>0.0</td>\n",
       "      <td>0.0</td>\n",
       "      <td>0.0</td>\n",
       "      <td>0.0</td>\n",
       "      <td>1.0</td>\n",
       "      <td>0.0</td>\n",
       "      <td>0.0</td>\n",
       "      <td>0.0</td>\n",
       "      <td>0.0</td>\n",
       "      <td>0</td>\n",
       "    </tr>\n",
       "    <tr>\n",
       "      <th>3</th>\n",
       "      <td>-0.444444</td>\n",
       "      <td>2.028668</td>\n",
       "      <td>1.0</td>\n",
       "      <td>-0.664474</td>\n",
       "      <td>0.541893</td>\n",
       "      <td>1.184211</td>\n",
       "      <td>0.990099</td>\n",
       "      <td>3.358108</td>\n",
       "      <td>1.0</td>\n",
       "      <td>0.0</td>\n",
       "      <td>...</td>\n",
       "      <td>1.0</td>\n",
       "      <td>0.0</td>\n",
       "      <td>0.0</td>\n",
       "      <td>0.0</td>\n",
       "      <td>0.0</td>\n",
       "      <td>0.0</td>\n",
       "      <td>0.0</td>\n",
       "      <td>0.0</td>\n",
       "      <td>0.0</td>\n",
       "      <td>0</td>\n",
       "    </tr>\n",
       "    <tr>\n",
       "      <th>5</th>\n",
       "      <td>-0.500000</td>\n",
       "      <td>0.910044</td>\n",
       "      <td>1.0</td>\n",
       "      <td>-1.164474</td>\n",
       "      <td>0.260065</td>\n",
       "      <td>0.111111</td>\n",
       "      <td>0.881188</td>\n",
       "      <td>2.709527</td>\n",
       "      <td>1.0</td>\n",
       "      <td>0.0</td>\n",
       "      <td>...</td>\n",
       "      <td>0.0</td>\n",
       "      <td>0.0</td>\n",
       "      <td>0.0</td>\n",
       "      <td>0.0</td>\n",
       "      <td>0.0</td>\n",
       "      <td>0.0</td>\n",
       "      <td>0.0</td>\n",
       "      <td>0.0</td>\n",
       "      <td>0.0</td>\n",
       "      <td>0</td>\n",
       "    </tr>\n",
       "  </tbody>\n",
       "</table>\n",
       "<p>5 rows × 110 columns</p>\n",
       "</div>"
      ],
      "text/plain": [
       "        age       bmi  elective_surgery    height  pre_icu_los_days    weight  \\\n",
       "0  0.000000  1.812881               0.0 -0.328947          0.394995  1.242690   \n",
       "1  0.166667  0.662788               1.0  0.006579          0.159956  0.508772   \n",
       "2 -2.111111 -0.090963               0.0 -0.730263          0.075082 -0.400585   \n",
       "3 -0.444444  2.028668               1.0 -0.664474          0.541893  1.184211   \n",
       "5 -0.500000  0.910044               1.0 -1.164474          0.260065  0.111111   \n",
       "\n",
       "   apache_2_diagnosis  apache_3j_diagnosis  apache_post_operative  arf_apache  \\\n",
       "0            0.029703            -1.027027                    0.0         0.0   \n",
       "1            1.000000             4.361554                    1.0         0.0   \n",
       "2            1.891089             1.662162                    0.0         0.0   \n",
       "3            0.990099             3.358108                    1.0         0.0   \n",
       "5            0.881188             2.709527                    1.0         0.0   \n",
       "\n",
       "   ...  apache_2_bodysystem_Gastrointestinal  \\\n",
       "0  ...                                   0.0   \n",
       "1  ...                                   0.0   \n",
       "2  ...                                   0.0   \n",
       "3  ...                                   1.0   \n",
       "5  ...                                   0.0   \n",
       "\n",
       "   apache_2_bodysystem_Haematologic  apache_2_bodysystem_Metabolic  \\\n",
       "0                               0.0                            0.0   \n",
       "1                               0.0                            0.0   \n",
       "2                               0.0                            0.0   \n",
       "3                               0.0                            0.0   \n",
       "5                               0.0                            0.0   \n",
       "\n",
       "   apache_2_bodysystem_Neurologic  apache_2_bodysystem_Renal/Genitourinary  \\\n",
       "0                             0.0                                      0.0   \n",
       "1                             0.0                                      1.0   \n",
       "2                             0.0                                      1.0   \n",
       "3                             0.0                                      0.0   \n",
       "5                             0.0                                      0.0   \n",
       "\n",
       "   apache_2_bodysystem_Respiratory  apache_2_bodysystem_Trauma  \\\n",
       "0                              0.0                         0.0   \n",
       "1                              0.0                         0.0   \n",
       "2                              0.0                         0.0   \n",
       "3                              0.0                         0.0   \n",
       "5                              0.0                         0.0   \n",
       "\n",
       "   apache_2_bodysystem_Undefined Diagnoses  \\\n",
       "0                                      0.0   \n",
       "1                                      0.0   \n",
       "2                                      0.0   \n",
       "3                                      0.0   \n",
       "5                                      0.0   \n",
       "\n",
       "   apache_2_bodysystem_Undefined diagnoses  hospital_death  \n",
       "0                                      0.0               0  \n",
       "1                                      0.0               0  \n",
       "2                                      0.0               0  \n",
       "3                                      0.0               0  \n",
       "5                                      0.0               0  \n",
       "\n",
       "[5 rows x 110 columns]"
      ]
     },
     "execution_count": 39,
     "metadata": {},
     "output_type": "execute_result"
    }
   ],
   "source": [
    "## scale X\n",
    "scalerX = preprocessing.RobustScaler(quantile_range=(25.0, 75.0))\n",
    "X = scalerX.fit_transform(df_new.drop(\"hospital_death\", axis=1))\n",
    "df_scaled= pd.DataFrame(X, columns=df_new.drop(\"hospital_death\", \n",
    "                        axis=1).columns, index=df_new.index)\n",
    "df_scaled = pd.concat([df_scaled,df_new[\"hospital_death\"]],axis=1)\n",
    "df_scaled.head()"
   ]
  },
  {
   "cell_type": "code",
   "execution_count": 40,
   "id": "cf5073dd-c6ed-41e9-980a-3b63968bdc1e",
   "metadata": {},
   "outputs": [
    {
     "data": {
      "text/plain": [
       "(197, 110)"
      ]
     },
     "execution_count": 40,
     "metadata": {},
     "output_type": "execute_result"
    }
   ],
   "source": [
    "#the shape of the scaled dataframe\n",
    "df_scaled.shape"
   ]
  },
  {
   "cell_type": "code",
   "execution_count": 41,
   "id": "58a10aaf-9074-4f7a-a947-205efe14ec96",
   "metadata": {},
   "outputs": [
    {
     "data": {
      "text/plain": [
       "Index(['age', 'bmi', 'elective_surgery', 'height', 'pre_icu_los_days',\n",
       "       'weight', 'apache_2_diagnosis', 'apache_3j_diagnosis',\n",
       "       'apache_post_operative', 'arf_apache',\n",
       "       ...\n",
       "       'apache_3j_bodysystem_Trauma', 'apache_2_bodysystem_Gastrointestinal',\n",
       "       'apache_2_bodysystem_Haematologic', 'apache_2_bodysystem_Metabolic',\n",
       "       'apache_2_bodysystem_Neurologic',\n",
       "       'apache_2_bodysystem_Renal/Genitourinary',\n",
       "       'apache_2_bodysystem_Respiratory', 'apache_2_bodysystem_Trauma',\n",
       "       'apache_2_bodysystem_Undefined Diagnoses',\n",
       "       'apache_2_bodysystem_Undefined diagnoses'],\n",
       "      dtype='object', length=109)"
      ]
     },
     "execution_count": 41,
     "metadata": {},
     "output_type": "execute_result"
    }
   ],
   "source": [
    "# the explanatory variables of the scaled data\n",
    "dfx_scaled = df_scaled.drop(\"hospital_death\", axis=1)\n",
    "dfx_scaled.keys()"
   ]
  },
  {
   "cell_type": "markdown",
   "id": "1f17d730-cb97-4206-a636-d7c945346be7",
   "metadata": {},
   "source": [
    "# Feature Importance"
   ]
  },
  {
   "cell_type": "code",
   "execution_count": 42,
   "id": "12189807-bc7b-476e-9795-0367c4647e41",
   "metadata": {},
   "outputs": [
    {
     "name": "stdout",
     "output_type": "stream",
     "text": [
      "Features sorted by their score:\n",
      "[(0.2963, 'hospital_death'), (0.0721, 'apache_4a_icu_death_prob'), (0.0556, 'apache_4a_hospital_death_prob'), (0.036, 'd1_sysbp_noninvasive_min'), (0.0307, 'd1_sysbp_min'), (0.0275, 'd1_temp_min'), (0.0265, 'd1_mbp_min'), (0.0223, 'd1_mbp_noninvasive_min'), (0.017, 'h1_sysbp_noninvasive_min'), (0.0168, 'temp_apache'), (0.0146, 'd1_diasbp_min'), (0.014, 'd1_diasbp_noninvasive_min'), (0.0131, 'map_apache'), (0.0126, 'h1_sysbp_min'), (0.0126, 'd1_heartrate_max'), (0.0123, 'd1_resprate_max'), (0.012, 'height'), (0.0115, 'h1_mbp_min'), (0.0107, 'h1_diasbp_noninvasive_min'), (0.01, 'apache_2_diagnosis'), (0.0097, 'h1_heartrate_min'), (0.0097, 'h1_diasbp_noninvasive_max'), (0.0096, 'weight'), (0.0094, 'h1_heartrate_max'), (0.0089, 'h1_mbp_noninvasive_min'), (0.0089, 'h1_diasbp_max'), (0.0085, 'd1_spo2_min'), (0.0084, 'age'), (0.0083, 'apache_post_operative'), (0.008, 'd1_potassium_max'), (0.0079, 'd1_potassium_min'), (0.0073, 'heart_rate_apache'), (0.0072, 'apache_3j_diagnosis'), (0.0069, 'pre_icu_los_days'), (0.0067, 'bmi'), (0.0065, 'h1_resprate_min'), (0.0062, 'd1_glucose_max'), (0.006, 'h1_diasbp_min'), (0.0059, 'd1_temp_max'), (0.0057, 'h1_sysbp_max'), (0.0056, 'd1_sysbp_max'), (0.0056, 'd1_heartrate_min'), (0.0055, 'ventilated_apache'), (0.0054, 'h1_sysbp_noninvasive_max'), (0.0053, 'h1_mbp_max'), (0.0051, 'icu_admit_source_Operating Room / Recovery'), (0.0051, 'h1_resprate_max'), (0.0049, 'd1_resprate_min'), (0.0047, 'intubated_apache'), (0.0046, 'gcs_eyes_apache'), (0.0045, 'h1_mbp_noninvasive_max'), (0.0044, 'resprate_apache'), (0.0043, 'd1_diasbp_noninvasive_max'), (0.0042, 'elective_surgery'), (0.0042, 'd1_diasbp_max'), (0.0041, 'd1_sysbp_noninvasive_max'), (0.0041, 'd1_mbp_noninvasive_max'), (0.0033, 'h1_spo2_min'), (0.0033, 'd1_mbp_max'), (0.003, 'h1_spo2_max'), (0.003, 'd1_glucose_min'), (0.0028, 'apache_2_bodysystem_Metabolic'), (0.0023, 'gcs_motor_apache'), (0.0023, 'apache_3j_bodysystem_Sepsis'), (0.002, 'gcs_verbal_apache'), (0.0015, 'icu_admit_source_Floor'), (0.0014, 'diabetes_mellitus'), (0.0014, 'apache_3j_bodysystem_Metabolic'), (0.0013, 'icu_type_Neuro ICU'), (0.0013, 'apache_2_bodysystem_Undefined Diagnoses'), (0.0008, 'icu_stay_type_transfer'), (0.0008, 'apache_3j_bodysystem_Genitourinary'), (0.0007, 'icu_type_MICU'), (0.0007, 'd1_spo2_max'), (0.0007, 'apache_3j_bodysystem_Respiratory'), (0.0006, 'gender_M'), (0.0006, 'apache_2_bodysystem_Respiratory'), (0.0006, 'apache_2_bodysystem_Gastrointestinal'), (0.0005, 'immunosuppression'), (0.0005, 'icu_type_CTICU'), (0.0005, 'icu_type_CSICU'), (0.0005, 'apache_3j_bodysystem_Trauma'), (0.0004, 'arf_apache'), (0.0003, 'apache_3j_bodysystem_Hematological'), (0.0003, 'apache_2_bodysystem_Renal/Genitourinary'), (0.0002, 'solid_tumor_with_metastasis'), (0.0002, 'icu_type_Med-Surg ICU'), (0.0002, 'cirrhosis'), (0.0002, 'apache_3j_bodysystem_Neurological'), (0.0002, 'apache_3j_bodysystem_Gastrointestinal'), (0.0002, 'apache_2_bodysystem_Trauma'), (0.0002, 'apache_2_bodysystem_Neurologic'), (0.0001, 'icu_type_Cardiac ICU'), (0.0, 'lymphoma'), (0.0, 'leukemia'), (0.0, 'icu_type_SICU'), (0.0, 'icu_stay_type_readmit'), (0.0, 'icu_admit_source_Other ICU'), (0.0, 'icu_admit_source_Other Hospital'), (0.0, 'hepatic_failure'), (0.0, 'gcs_unable_apache'), (0.0, 'ethnicity_Other/Unknown'), (0.0, 'ethnicity_Native American'), (0.0, 'ethnicity_Hispanic'), (0.0, 'ethnicity_Caucasian'), (0.0, 'ethnicity_Asian'), (0.0, 'apache_3j_bodysystem_Musculoskeletal/Skin'), (0.0, 'apache_2_bodysystem_Undefined diagnoses'), (0.0, 'apache_2_bodysystem_Haematologic'), (0.0, 'aids')]\n"
     ]
    }
   ],
   "source": [
    "#Feature Importance\n",
    "from sklearn.ensemble import RandomForestClassifier\n",
    "X = df_scaled.iloc[:,0:110]\n",
    "Y = df_scaled.iloc[:,-1]\n",
    "names = df_scaled.columns.values\n",
    "\n",
    "# Build the model\n",
    "rfc = RandomForestClassifier()\n",
    "\n",
    "# Fit the model\n",
    "rfc.fit(X, Y)\n",
    "\n",
    "# Print the results\n",
    "print(\"Features sorted by their score:\")\n",
    "print(sorted(zip(map(lambda x: round(x, 4), rfc.feature_importances_), names), reverse=True))"
   ]
  },
  {
   "cell_type": "code",
   "execution_count": 43,
   "id": "b387592c-52d1-4a76-8a85-eebfab326f99",
   "metadata": {},
   "outputs": [
    {
     "data": {
      "image/png": "[encoded data removed]",
      "text/plain": [
       "<Figure size 432x288 with 2 Axes>"
      ]
     },
     "metadata": {
      "needs_background": "light"
     },
     "output_type": "display_data"
    }
   ],
   "source": [
    "#Feature importance plot\n",
    "import numpy as np\n",
    "X = df_scaled.drop(\"hospital_death\", axis=1).values\n",
    "y = df_scaled[\"hospital_death\"].values\n",
    "feature_names = df_scaled.drop(\"hospital_death\", axis=1).columns.tolist()\n",
    "## call model\n",
    "model = ensemble.GradientBoostingRegressor()\n",
    "## Importance\n",
    "model.fit(X,y)\n",
    "importances = model.feature_importances_\n",
    "#importance\n",
    "## Put in a pandas dtf\n",
    "df_importances = pd.DataFrame({\"IMPORTANCE\":importances, \"VARIABLE\":feature_names}).sort_values(\"IMPORTANCE\", ascending=False)\n",
    "df_importances['cumsum'] =  df_importances['IMPORTANCE'].cumsum(axis=0)\n",
    "df_importances = df_importances.set_index(\"VARIABLE\")\n",
    "    \n",
    "## Plot\n",
    "fig, ax = plt.subplots(nrows=2, ncols=1, sharex=False, sharey=False)\n",
    "fig.suptitle(\"Features Importance\", fontsize=20)\n",
    "df_importances[[\"IMPORTANCE\"]].sort_values(by=\"IMPORTANCE\").plot(kind=\"barh\", legend=False, ax=ax[0]).grid(axis=\"x\")\n",
    "ax[0].set(ylabel=\"\")\n",
    "ax[1].title.set_text('cumulative')\n",
    "df_importances[[\"cumsum\"]].plot(kind=\"line\", linewidth=4, \n",
    "                                 legend=False, ax=ax[1])\n",
    "ax[1].set(xlabel=\"\", xticks=np.arange(len(df_importances)), \n",
    "          xticklabels=df_importances.index)\n",
    "plt.xticks(rotation=70)\n",
    "plt.grid(axis='both')\n",
    "plt.show()"
   ]
  },
  {
   "cell_type": "markdown",
   "id": "51125337-028f-4cb7-9473-5a231f569333",
   "metadata": {},
   "source": [
    "# Principal Component Analysis"
   ]
  },
  {
   "cell_type": "code",
   "execution_count": 44,
   "id": "8810852c-a8c7-4207-a158-cfcc94e74ba8",
   "metadata": {},
   "outputs": [],
   "source": [
    "#PCA\n",
    "from sklearn.decomposition import PCA\n",
    "pca = PCA(0.95)\n",
    "pca.fit(dfx_scaled)\n",
    "x_pca = pca.transform(dfx_scaled)"
   ]
  },
  {
   "cell_type": "code",
   "execution_count": 45,
   "id": "6ea998c9-d93d-472c-ad8e-5e9f337d3323",
   "metadata": {},
   "outputs": [
    {
     "data": {
      "text/plain": [
       "(197, 30)"
      ]
     },
     "execution_count": 45,
     "metadata": {},
     "output_type": "execute_result"
    }
   ],
   "source": [
    "#the shape of the x_pca\n",
    "x_pca.shape"
   ]
  },
  {
   "cell_type": "code",
   "execution_count": 46,
   "id": "de33aca2-95da-48b1-8102-c066809114a6",
   "metadata": {},
   "outputs": [
    {
     "data": {
      "text/plain": [
       "array([0.32960505, 0.13218601, 0.08574537, 0.06015807, 0.04239102,\n",
       "       0.03395064, 0.03030049, 0.0246273 , 0.02105182, 0.01903408,\n",
       "       0.01774618, 0.01754718, 0.01597715, 0.01486673, 0.01223793,\n",
       "       0.01189657, 0.01124412, 0.00906897, 0.00831667, 0.00760458,\n",
       "       0.00667793, 0.00634171, 0.00573558, 0.00482965, 0.00463103,\n",
       "       0.0043204 , 0.00420338, 0.00372786, 0.00337423, 0.0031717 ])"
      ]
     },
     "execution_count": 46,
     "metadata": {},
     "output_type": "execute_result"
    }
   ],
   "source": [
    "# the explained variance ratio of the pca\n",
    "pca.explained_variance_ratio_"
   ]
  },
  {
   "cell_type": "code",
   "execution_count": 47,
   "id": "41d5b506-7f82-46df-9b3b-95398dffe692",
   "metadata": {},
   "outputs": [],
   "source": [
    "#the explained variance ratio into percentage\n",
    "per_var = np.round(pca.explained_variance_ratio_*100,decimals =1)\n",
    "labels = [\"PCA\" + str(x) for x in range(1, len(per_var) +1)]"
   ]
  },
  {
   "cell_type": "code",
   "execution_count": 48,
   "id": "3431d008-7f41-40e6-814c-d68f997ce5ee",
   "metadata": {},
   "outputs": [
    {
     "data": {
      "image/png": "[encoded data removed]",
      "text/plain": [
       "<Figure size 432x288 with 1 Axes>"
      ]
     },
     "metadata": {
      "needs_background": "light"
     },
     "output_type": "display_data"
    }
   ],
   "source": [
    "#Scree plot\n",
    "plt.bar(x = range(1, len(per_var) +1), height = per_var, tick_label = labels)\n",
    "plt.ylabel(\"Percentage of Explained Variance\")\n",
    "plt.xlabel(\"Principal Component\")\n",
    "plt.title(\"Scree Plot\")\n",
    "plt.show()"
   ]
  },
  {
   "cell_type": "code",
   "execution_count": 49,
   "id": "5650ba6e-8d0f-442d-be0c-bb4afb0b562e",
   "metadata": {},
   "outputs": [
    {
     "data": {
      "image/png": "[encoded data removed]",
      "text/plain": [
       "<Figure size 432x288 with 1 Axes>"
      ]
     },
     "metadata": {
      "needs_background": "light"
     },
     "output_type": "display_data"
    }
   ],
   "source": [
    "pca_df = pd.DataFrame(x_pca, index = df_new.index, columns = labels)\n",
    "plt.scatter(pca_df.PCA1,pca_df.PCA2)\n",
    "plt.title(\"My PCA Graph\")\n",
    "plt.xlabel(\"PCA1 - {0}%\".format(per_var[0]))\n",
    "plt.ylabel(\"PCA2 - {0}%\".format(per_var[1]))\n",
    "\n",
    "for sample in pca_df.index:\n",
    "    plt.annotate(sample, (pca_df.PCA1.loc[sample], pca_df.PCA2.loc[sample]))\n",
    "plt.show()"
   ]
  },
  {
   "cell_type": "markdown",
   "id": "9fdcff3c-d3e4-4ad8-84ec-5ed79e746027",
   "metadata": {},
   "source": [
    "# Model Building\n"
   ]
  },
  {
   "cell_type": "code",
   "execution_count": 51,
   "id": "43ed18b1-1d14-4167-b8d3-89bfe63093b8",
   "metadata": {},
   "outputs": [],
   "source": [
    "#Data partition\n",
    "X_train_pca, X_test_pca, y_train, y_test = train_test_split(x_pca, df_scaled[\"hospital_death\"], test_size=0.2,random_state = 105)"
   ]
  },
  {
   "cell_type": "markdown",
   "id": "fd36adc2-bac2-4435-963e-88103d0c7e9c",
   "metadata": {},
   "source": [
    "# Logistic Regression"
   ]
  },
  {
   "cell_type": "code",
   "execution_count": 52,
   "id": "f03c1298-687a-433d-8f20-27cbe511bc05",
   "metadata": {},
   "outputs": [
    {
     "name": "stdout",
     "output_type": "stream",
     "text": [
      "[1 0 0 1 1 1 0 0 1 1 1 1 1 1 1 1 0 0 1 0 0 1 1 1 0 0 0 1 0 1 0 0 1 1 1 0 1\n",
      " 0 1 0]\n"
     ]
    }
   ],
   "source": [
    "#Logistic Regression\n",
    "from sklearn.linear_model import LogisticRegression\n",
    "Logmodel = LogisticRegression(max_iter=1000)\n",
    "\n",
    "#Fitting the model\n",
    "Logmodel.fit(X_train_pca,y_train)\n",
    "y_pred = Logmodel.predict(X_test_pca)\n",
    "\n",
    "#The prediction\n",
    "print(y_pred)\n",
    "\n"
   ]
  },
  {
   "cell_type": "code",
   "execution_count": 53,
   "id": "cc7ccfbe-9d43-449b-9ca1-10c42c73a217",
   "metadata": {},
   "outputs": [
    {
     "data": {
      "text/plain": [
       "array([[13,  2],\n",
       "       [ 4, 21]], dtype=int64)"
      ]
     },
     "execution_count": 53,
     "metadata": {},
     "output_type": "execute_result"
    }
   ],
   "source": [
    "#Confusion matrix\n",
    "from sklearn import metrics\n",
    "confusion_matrix = metrics.confusion_matrix(y_test,y_pred)\n",
    "confusion_matrix"
   ]
  },
  {
   "cell_type": "code",
   "execution_count": 54,
   "id": "1261b638-ac7a-46f5-b4de-3fc20a26c440",
   "metadata": {},
   "outputs": [
    {
     "data": {
      "text/plain": [
       "Text(0.5, 257.44, 'Predicted label')"
      ]
     },
     "execution_count": 54,
     "metadata": {},
     "output_type": "execute_result"
    },
    {
     "data": {
      "image/png": "[encoded data removed]",
      "text/plain": [
       "<Figure size 432x288 with 2 Axes>"
      ]
     },
     "metadata": {
      "needs_background": "light"
     },
     "output_type": "display_data"
    }
   ],
   "source": [
    "class_names=[0,1] # name  of classes\n",
    "fig, ax = plt.subplots()\n",
    "tick_marks = np.arange(len(class_names))\n",
    "plt.xticks(tick_marks, class_names)\n",
    "plt.yticks(tick_marks, class_names)\n",
    "# create heatmap\n",
    "sns.heatmap(pd.DataFrame(confusion_matrix), annot=True, cmap=\"YlGnBu\" ,fmt='g')\n",
    "ax.xaxis.set_label_position(\"top\")\n",
    "plt.tight_layout()\n",
    "plt.title('Confusion matrix', y=1.1)\n",
    "plt.ylabel('Actual label')\n",
    "plt.xlabel('Predicted label')"
   ]
  },
  {
   "cell_type": "code",
   "execution_count": 55,
   "id": "f0adb5f8-8a38-47b3-b1e8-7c6dd7e072b6",
   "metadata": {},
   "outputs": [
    {
     "name": "stdout",
     "output_type": "stream",
     "text": [
      "Accuracy: 0.85\n",
      "Precision: 0.9130434782608695\n",
      "Recall: 0.84\n"
     ]
    }
   ],
   "source": [
    "print(\"Accuracy:\",metrics.accuracy_score(y_test, y_pred))\n",
    "print(\"Precision:\",metrics.precision_score(y_test, y_pred))\n",
    "print(\"Recall:\",metrics.recall_score(y_test, y_pred))"
   ]
  },
  {
   "cell_type": "markdown",
   "id": "d3a495c8-a9e4-448f-88cb-bce457321f2a",
   "metadata": {},
   "source": [
    "# Support Vector Machine"
   ]
  },
  {
   "cell_type": "code",
   "execution_count": 56,
   "id": "8b3e3d07-9885-4bd6-b34c-042f3acde1fb",
   "metadata": {},
   "outputs": [],
   "source": [
    "#Support Vector Machine\n",
    "from sklearn import svm\n",
    "\n",
    "#Create a svm Classifier\n",
    "clf = svm.SVC(kernel='linear') # Linear Kernel\n",
    "\n",
    "#Train the model using the training sets\n",
    "clf.fit(X_train_pca, y_train)\n",
    "\n",
    "#Predict the response for test dataset\n",
    "y_pred = clf.predict(X_test_pca)"
   ]
  },
  {
   "cell_type": "code",
   "execution_count": 57,
   "id": "939bd8d4-5113-437c-bea8-efee7114080b",
   "metadata": {},
   "outputs": [
    {
     "data": {
      "text/plain": [
       "array([[14,  1],\n",
       "       [ 4, 21]], dtype=int64)"
      ]
     },
     "execution_count": 57,
     "metadata": {},
     "output_type": "execute_result"
    }
   ],
   "source": [
    "#Confusion Matrix\n",
    "cnf_matrix = metrics.confusion_matrix(y_test,y_pred)\n",
    "cnf_matrix"
   ]
  },
  {
   "cell_type": "code",
   "execution_count": 58,
   "id": "7795aeda-26fc-4505-9514-7748b64f2098",
   "metadata": {},
   "outputs": [
    {
     "data": {
      "text/plain": [
       "Text(0.5, 257.44, 'Predicted label')"
      ]
     },
     "execution_count": 58,
     "metadata": {},
     "output_type": "execute_result"
    },
    {
     "data": {
      "image/png": "[encoded data removed]",
      "text/plain": [
       "<Figure size 432x288 with 2 Axes>"
      ]
     },
     "metadata": {
      "needs_background": "light"
     },
     "output_type": "display_data"
    }
   ],
   "source": [
    "class_names=[0,1] # name  of classes\n",
    "fig, ax = plt.subplots()\n",
    "tick_marks = np.arange(len(class_names))\n",
    "plt.xticks(tick_marks, class_names)\n",
    "plt.yticks(tick_marks, class_names)\n",
    "# create heatmap\n",
    "sns.heatmap(pd.DataFrame(cnf_matrix), annot=True, cmap=\"YlGnBu\" ,fmt='g')\n",
    "ax.xaxis.set_label_position(\"top\")\n",
    "plt.tight_layout()\n",
    "plt.title('Confusion matrix', y=1.1)\n",
    "plt.ylabel('Actual label')\n",
    "plt.xlabel('Predicted label')"
   ]
  },
  {
   "cell_type": "code",
   "execution_count": 59,
   "id": "d59fa0d3-7f32-4da8-83bc-d389ee46466e",
   "metadata": {},
   "outputs": [
    {
     "name": "stdout",
     "output_type": "stream",
     "text": [
      "Accuracy: 0.875\n",
      "Precision: 0.9545454545454546\n",
      "Recall: 0.84\n"
     ]
    }
   ],
   "source": [
    "# Model Accuracy: how often is the classifier correct?\n",
    "print(\"Accuracy:\",metrics.accuracy_score(y_test, y_pred))\n",
    "\n",
    "# Model Precision: what percentage of positive tuples are labeled as such?\n",
    "print(\"Precision:\",metrics.precision_score(y_test, y_pred))\n",
    "\n",
    "# Model Recall: what percentage of positive tuples are labelled as such?\n",
    "print(\"Recall:\",metrics.recall_score(y_test, y_pred))"
   ]
  },
  {
   "cell_type": "markdown",
   "id": "00d1c3ee-1821-4508-bfa6-22e6d767e6eb",
   "metadata": {},
   "source": [
    "# Naive Bayes"
   ]
  },
  {
   "cell_type": "code",
   "execution_count": 60,
   "id": "f23e470f-dee5-459b-9626-4fd40c70c4a9",
   "metadata": {},
   "outputs": [
    {
     "name": "stdout",
     "output_type": "stream",
     "text": [
      "Predicted Value: [1 0 0 1 1 1 0 0 1 1 1 1 1 1 1 1 0 1 1 0 0 1 1 1 0 0 0 0 0 1 0 0 0 1 1 1 1\n",
      " 0 1 0]\n"
     ]
    }
   ],
   "source": [
    "#Naive Bayes\n",
    "#Import Gaussian Naive Bayes model\n",
    "from sklearn.naive_bayes import GaussianNB\n",
    "\n",
    "#Create a Gaussian Classifier\n",
    "model = GaussianNB()\n",
    "\n",
    "# Train the model using the training sets\n",
    "model.fit(X_train_pca,y_train)\n",
    "\n",
    "#Predict Output\n",
    "predicted= model.predict(X_test_pca) # 0:Overcast, 2:Mild\n",
    "print (\"Predicted Value:\", predicted)"
   ]
  },
  {
   "cell_type": "code",
   "execution_count": 61,
   "id": "b263888d-96c7-4962-82cf-fb714de5ae65",
   "metadata": {},
   "outputs": [
    {
     "data": {
      "text/plain": [
       "array([[13,  2],\n",
       "       [ 4, 21]], dtype=int64)"
      ]
     },
     "execution_count": 61,
     "metadata": {},
     "output_type": "execute_result"
    }
   ],
   "source": [
    "#Confusion Matrix\n",
    "conf_matrix = metrics.confusion_matrix(y_test,predicted)\n",
    "conf_matrix"
   ]
  },
  {
   "cell_type": "code",
   "execution_count": 62,
   "id": "852789ab-79ec-41b7-8a23-2699ae61d0a7",
   "metadata": {},
   "outputs": [
    {
     "data": {
      "text/plain": [
       "Text(0.5, 257.44, 'Predicted label')"
      ]
     },
     "execution_count": 62,
     "metadata": {},
     "output_type": "execute_result"
    },
    {
     "data": {
      "image/png": "[encoded data removed]",
      "text/plain": [
       "<Figure size 432x288 with 2 Axes>"
      ]
     },
     "metadata": {
      "needs_background": "light"
     },
     "output_type": "display_data"
    }
   ],
   "source": [
    "class_names=[0,1] # name  of classes\n",
    "fig, ax = plt.subplots()\n",
    "tick_marks = np.arange(len(class_names))\n",
    "plt.xticks(tick_marks, class_names)\n",
    "plt.yticks(tick_marks, class_names)\n",
    "# create heatmap\n",
    "sns.heatmap(pd.DataFrame(conf_matrix), annot=True, cmap=\"YlGnBu\" ,fmt='g')\n",
    "ax.xaxis.set_label_position(\"top\")\n",
    "plt.tight_layout()\n",
    "plt.title('Confusion matrix', y=1.1)\n",
    "plt.ylabel('Actual label')\n",
    "plt.xlabel('Predicted label')"
   ]
  },
  {
   "cell_type": "code",
   "execution_count": 63,
   "id": "968b6007-bf66-4595-bf0e-fd63122306cf",
   "metadata": {},
   "outputs": [
    {
     "name": "stdout",
     "output_type": "stream",
     "text": [
      "Accuracy: 0.85\n",
      "Precision: 0.9130434782608695\n",
      "Recall: 0.84\n"
     ]
    }
   ],
   "source": [
    "# Model Accuracy: how often is the classifier correct?\n",
    "print(\"Accuracy:\",metrics.accuracy_score(y_test, predicted))\n",
    "\n",
    "# Model Precision: what percentage of positive tuples are labeled as such?\n",
    "print(\"Precision:\",metrics.precision_score(y_test, predicted))\n",
    "\n",
    "# Model Recall: what percentage of positive tuples are labelled as such?\n",
    "print(\"Recall:\",metrics.recall_score(y_test, predicted))"
   ]
  },
  {
   "cell_type": "markdown",
   "id": "7c6a0a68-d0f1-438b-b671-36fe4db36c79",
   "metadata": {},
   "source": [
    "# Model Comparison"
   ]
  },
  {
   "cell_type": "code",
   "execution_count": 64,
   "id": "84c99d94-fb81-4bbf-beb9-fbe85c70e228",
   "metadata": {},
   "outputs": [
    {
     "name": "stdout",
     "output_type": "stream",
     "text": [
      "LR: 0.680833 (0.060415)\n",
      "NB: 0.641667 (0.083271)\n",
      "SVM: 0.700000 (0.078462)\n"
     ]
    },
    {
     "data": {
      "image/png": "[encoded data removed]",
      "text/plain": [
       "<Figure size 432x288 with 1 Axes>"
      ]
     },
     "metadata": {
      "needs_background": "light"
     },
     "output_type": "display_data"
    }
   ],
   "source": [
    "seed = 20\n",
    "models = []\n",
    "models.append(('LR', Logmodel))\n",
    "models.append(('NB', model))\n",
    "models.append(('SVM', clf))\n",
    "results = []\n",
    "names = []\n",
    "scoring = 'accuracy'\n",
    "for name, model in models:\n",
    "\tkfold = model_selection.KFold(n_splits=10, random_state=None)\n",
    "\tcv_results = model_selection.cross_val_score(model,X_train_pca,y_train, cv=kfold, scoring=scoring)\n",
    "\tresults.append(cv_results)\n",
    "\tnames.append(name)\n",
    "\tmsg = \"%s: %f (%f)\" % (name, cv_results.mean(), cv_results.std())\n",
    "\tprint(msg)\n",
    "# boxplot algorithm comparison\n",
    "fig = plt.figure()\n",
    "fig.suptitle('Algorithm Comparison')\n",
    "ax = fig.add_subplot(111)\n",
    "plt.boxplot(results)\n",
    "ax.set_xticklabels(names)\n",
    "plt.show()"
   ]
  },
  {
   "cell_type": "code",
   "execution_count": null,
   "id": "523a6150-2ca7-4eaa-bfb3-a38346ca5b6a",
   "metadata": {},
   "outputs": [],
   "source": []
  }
 ],
 "metadata": {
  "kernelspec": {
   "display_name": "Python 3",
   "language": "python",
   "name": "python3"
  },
  "language_info": {
   "codemirror_mode": {
    "name": "ipython",
    "version": 3
   },
   "file_extension": ".py",
   "mimetype": "text/x-python",
   "name": "python",
   "nbconvert_exporter": "python",
   "pygments_lexer": "ipython3",
   "version": "3.8.8"
  }
 },
 "nbformat": 4,
 "nbformat_minor": 5
}
